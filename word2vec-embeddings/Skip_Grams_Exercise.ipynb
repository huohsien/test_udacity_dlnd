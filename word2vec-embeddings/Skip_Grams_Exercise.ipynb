{
 "cells": [
  {
   "cell_type": "markdown",
   "metadata": {},
   "source": [
    "# Skip-gram Word2Vec\n",
    "\n",
    "In this notebook, I'll lead you through using PyTorch to implement the [Word2Vec algorithm](https://en.wikipedia.org/wiki/Word2vec) using the skip-gram architecture. By implementing this, you'll learn about embedding words for use in natural language processing. This will come in handy when dealing with things like machine translation.\n",
    "\n",
    "## Readings\n",
    "\n",
    "Here are the resources I used to build this notebook. I suggest reading these either beforehand or while you're working on this material.\n",
    "\n",
    "* A really good [conceptual overview](http://mccormickml.com/2016/04/19/word2vec-tutorial-the-skip-gram-model/) of Word2Vec from Chris McCormick \n",
    "* [First Word2Vec paper](https://arxiv.org/pdf/1301.3781.pdf) from Mikolov et al.\n",
    "* [Neural Information Processing Systems, paper](http://papers.nips.cc/paper/5021-distributed-representations-of-words-and-phrases-and-their-compositionality.pdf) with improvements for Word2Vec also from Mikolov et al.\n",
    "\n",
    "---\n",
    "## Word embeddings\n",
    "\n",
    "When you're dealing with words in text, you end up with tens of thousands of word classes to analyze; one for each word in a vocabulary. Trying to one-hot encode these words is massively inefficient because most values in a one-hot vector will be set to zero. So, the matrix multiplication that happens in between a one-hot input vector and a first, hidden layer will result in mostly zero-valued hidden outputs.\n",
    "\n",
    "<img src='assets/one_hot_encoding.png' width=50%>\n",
    "\n",
    "To solve this problem and greatly increase the efficiency of our networks, we use what are called **embeddings**. Embeddings are just a fully connected layer like you've seen before. We call this layer the embedding layer and the weights are embedding weights. We skip the multiplication into the embedding layer by instead directly grabbing the hidden layer values from the weight matrix. We can do this because the multiplication of a one-hot encoded vector with a matrix returns the row of the matrix corresponding the index of the \"on\" input unit.\n",
    "\n",
    "<img src='assets/lookup_matrix.png' width=50%>\n",
    "\n",
    "Instead of doing the matrix multiplication, we use the weight matrix as a lookup table. We encode the words as integers, for example \"heart\" is encoded as 958, \"mind\" as 18094. Then to get hidden layer values for \"heart\", you just take the 958th row of the embedding matrix. This process is called an **embedding lookup** and the number of hidden units is the **embedding dimension**.\n",
    "\n",
    "<img src='assets/tokenize_lookup.png' width=50%>\n",
    " \n",
    "There is nothing magical going on here. The embedding lookup table is just a weight matrix. The embedding layer is just a hidden layer. The lookup is just a shortcut for the matrix multiplication. The lookup table is trained just like any weight matrix.\n",
    "\n",
    "Embeddings aren't only used for words of course. You can use them for any model where you have a massive number of classes. A particular type of model called **Word2Vec** uses the embedding layer to find vector representations of words that contain semantic meaning."
   ]
  },
  {
   "cell_type": "markdown",
   "metadata": {},
   "source": [
    "---\n",
    "## Word2Vec\n",
    "\n",
    "The Word2Vec algorithm finds much more efficient representations by finding vectors that represent the words. These vectors also contain semantic information about the words.\n",
    "\n",
    "<img src=\"assets/context_drink.png\" width=40%>\n",
    "\n",
    "Words that show up in similar **contexts**, such as \"coffee\", \"tea\", and \"water\" will have vectors near each other. Different words will be further away from one another, and relationships can be represented by distance in vector space.\n",
    "\n",
    "<img src=\"assets/vector_distance.png\" width=40%>\n",
    "\n",
    "\n",
    "There are two architectures for implementing Word2Vec:\n",
    ">* CBOW (Continuous Bag-Of-Words) and \n",
    "* Skip-gram\n",
    "\n",
    "<img src=\"assets/word2vec_architectures.png\" width=60%>\n",
    "\n",
    "In this implementation, we'll be using the **skip-gram architecture** because it performs better than CBOW. Here, we pass in a word and try to predict the words surrounding it in the text. In this way, we can train the network to learn representations for words that show up in similar contexts."
   ]
  },
  {
   "cell_type": "markdown",
   "metadata": {},
   "source": [
    "---\n",
    "## Loading Data\n",
    "\n",
    "Next, we'll ask you to load in data and place it in the `data` directory\n",
    "\n",
    "1. Load the [text8 dataset](https://s3.amazonaws.com/video.udacity-data.com/topher/2018/October/5bbe6499_text8/text8.zip); a file of cleaned up *Wikipedia article text* from Matt Mahoney. \n",
    "2. Place that data in the `data` folder in the home directory.\n",
    "3. Then you can extract it and delete the archive, zip file to save storage space.\n",
    "\n",
    "After following these steps, you should have one file in your data directory: `data/text8`."
   ]
  },
  {
   "cell_type": "code",
   "execution_count": null,
   "metadata": {},
   "outputs": [],
   "source": [
    "# read in the extracted text file      \n",
    "with open('data/text8') as f:\n",
    "    text = f.read()\n",
    "\n",
    "# print out the first 100 characters\n",
    "print(text[:100])"
   ]
  },
  {
   "cell_type": "markdown",
   "metadata": {},
   "source": [
    "## Pre-processing\n",
    "\n",
    "Here I'm fixing up the text to make training easier. This comes from the `utils.py` file. The `preprocess` function does a few things:\n",
    ">* It converts any punctuation into tokens, so a period is changed to ` <PERIOD> `. In this data set, there aren't any periods, but it will help in other NLP problems. \n",
    "* It removes all words that show up five or *fewer* times in the dataset. This will greatly reduce issues due to noise in the data and improve the quality of the vector representations. \n",
    "* It returns a list of words in the text.\n",
    "\n",
    "This may take a few seconds to run, since our text file is quite large. If you want to write your own functions for this stuff, go for it!"
   ]
  },
  {
   "cell_type": "code",
   "execution_count": null,
   "metadata": {},
   "outputs": [],
   "source": [
    "import utils\n",
    "\n",
    "# get list of words\n",
    "words = utils.preprocess(text)\n",
    "print(words[:30])"
   ]
  },
  {
   "cell_type": "code",
   "execution_count": null,
   "metadata": {},
   "outputs": [],
   "source": [
    "# print some stats about this word data\n",
    "print(\"Total words in text: {}\".format(len(words)))\n",
    "print(\"Unique words: {}\".format(len(set(words)))) # `set` removes any duplicate words"
   ]
  },
  {
   "cell_type": "markdown",
   "metadata": {},
   "source": [
    "### Dictionaries\n",
    "\n",
    "Next, I'm creating two dictionaries to convert words to integers and back again (integers to words). This is again done with a function in the `utils.py` file. `create_lookup_tables` takes in a list of words in a text and returns two dictionaries.\n",
    ">* The integers are assigned in descending frequency order, so the most frequent word (\"the\") is given the integer 0 and the next most frequent is 1, and so on. \n",
    "\n",
    "Once we have our dictionaries, the words are converted to integers and stored in the list `int_words`."
   ]
  },
  {
   "cell_type": "code",
   "execution_count": null,
   "metadata": {},
   "outputs": [],
   "source": [
    "vocab_to_int, int_to_vocab = utils.create_lookup_tables(words)\n",
    "int_words = [vocab_to_int[word] for word in words]\n",
    "\n",
    "print(int_words[:30])"
   ]
  },
  {
   "cell_type": "markdown",
   "metadata": {},
   "source": [
    "## Subsampling\n",
    "\n",
    "Words that show up often such as \"the\", \"of\", and \"for\" don't provide much context to the nearby words. If we discard some of them, we can remove some of the noise from our data and in return get faster training and better representations. This process is called subsampling by Mikolov. For each word $w_i$ in the training set, we'll discard it with probability given by \n",
    "\n",
    "$$ P(w_i) = 1 - \\sqrt{\\frac{t}{f(w_i)}} $$\n",
    "\n",
    "where $t$ is a threshold parameter and $f(w_i)$ is the frequency of word $w_i$ in the total dataset.\n",
    "\n",
    "$$ P(0) = 1 - \\sqrt{\\frac{1*10^{-5}}{1*10^6/16*10^6}} = 0.98735 $$\n",
    "\n",
    "I'm going to leave this up to you as an exercise. Check out my solution to see how I did it.\n",
    "\n",
    "> **Exercise:** Implement subsampling for the words in `int_words`. That is, go through `int_words` and discard each word given the probablility $P(w_i)$ shown above. Note that $P(w_i)$ is the probability that a word is discarded. Assign the subsampled data to `train_words`."
   ]
  },
  {
   "cell_type": "code",
<<<<<<< HEAD
   "execution_count": null,
   "metadata": {},
   "outputs": [],
=======
   "execution_count": 5,
   "metadata": {},
   "outputs": [
    {
     "name": "stdout",
     "output_type": "stream",
     "text": [
      "4982923\n"
     ]
    }
   ],
>>>>>>> 86d4b1b3b11cc84ac91b7d5ff8e8d72eb93bc815
   "source": [
    "from collections import Counter\n",
    "import random\n",
    "import numpy as np\n",
    "\n",
    "threshold = 1e-5\n",
    "word_counts = Counter(int_words)\n",
    "# print(list(word_counts.items())[0])  # dictionary of int_words, how many times they appear\n",
    "\n",
    "# discard some frequent words, according to the subsampling equation\n",
    "# create a new list of words for training\n",
    "total_n_words = len(int_words)\n",
    "freqs = {word: count/total_n_words for word, count in word_counts.items()}\n",
    "drop_prob = {word: 1 - np.sqrt(threshold/freqs[word]) for word in set(int_words)}\n",
    "train_words = [word for word in int_words if random.random() > drop_prob[word]]\n",
    "\n",
    "# print(train_words[:30])\n",
    "print(len(train_words))"
   ]
  },
  {
   "cell_type": "code",
<<<<<<< HEAD
   "execution_count": null,
   "metadata": {},
   "outputs": [],
=======
   "execution_count": 6,
   "metadata": {},
   "outputs": [
    {
     "name": "stdout",
     "output_type": "stream",
     "text": [
      "CPU times: user 90.8 ms, sys: 0 ns, total: 90.8 ms\n",
      "Wall time: 89.2 ms\n"
     ]
    }
   ],
>>>>>>> 86d4b1b3b11cc84ac91b7d5ff8e8d72eb93bc815
   "source": [
    "u_int_words = set(int_words)\n",
    "%time freqs = {word: word_counts[word]/total_n_words for word in u_int_words}"
   ]
  },
  {
   "cell_type": "code",
<<<<<<< HEAD
   "execution_count": null,
   "metadata": {},
   "outputs": [],
=======
   "execution_count": 7,
   "metadata": {},
   "outputs": [
    {
     "name": "stdout",
     "output_type": "stream",
     "text": [
      "CPU times: user 45.4 ms, sys: 0 ns, total: 45.4 ms\n",
      "Wall time: 44 ms\n"
     ]
    }
   ],
>>>>>>> 86d4b1b3b11cc84ac91b7d5ff8e8d72eb93bc815
   "source": [
    "%time freqs = {word: count/total_n_words for word, count in word_counts.items()}"
   ]
  },
  {
   "cell_type": "markdown",
   "metadata": {},
   "source": [
    "## Making batches"
   ]
  },
  {
   "cell_type": "markdown",
   "metadata": {},
   "source": [
    "Now that our data is in good shape, we need to get it into the proper form to pass it into our network. With the skip-gram architecture, for each word in the text, we want to define a surrounding _context_ and grab all the words in a window around that word, with size $C$. \n",
    "\n",
    "From [Mikolov et al.](https://arxiv.org/pdf/1301.3781.pdf): \n",
    "\n",
    "\"Since the more distant words are usually less related to the current word than those close to it, we give less weight to the distant words by sampling less from those words in our training examples... If we choose $C = 5$, for each training word we will select randomly a number $R$ in range $[ 1: C ]$, and then use $R$ words from history and $R$ words from the future of the current word as correct labels.\"\n",
    "\n",
    "> **Exercise:** Implement a function `get_target` that receives a list of words, an index, and a window size, then returns a list of words in the window around the index. Make sure to use the algorithm described above, where you chose a random number of words to from the window.\n",
    "\n",
    "Say, we have an input and we're interested in the idx=2 token, `741`: \n",
    "```\n",
    "[5233, 58, 741, 10571, 27349, 0, 15067, 58112, 3580, 58, 10712]\n",
    "```\n",
    "\n",
    "For `R=2`, `get_target` should return a list of four values:\n",
    "```\n",
    "[5233, 58, 10571, 27349]\n",
    "```"
   ]
  },
  {
   "cell_type": "code",
<<<<<<< HEAD
   "execution_count": null,
   "metadata": {},
   "outputs": [],
=======
   "execution_count": 8,
   "metadata": {},
   "outputs": [
    {
     "data": {
      "text/plain": [
       "['the', 'of', 'and', 'in', 'to', 'as', 'a', 'one', 'that', 'eight']"
      ]
     },
     "execution_count": 8,
     "metadata": {},
     "output_type": "execute_result"
    }
   ],
>>>>>>> 86d4b1b3b11cc84ac91b7d5ff8e8d72eb93bc815
   "source": [
    "from collections import Counter\n",
    "import utils\n",
    "a = text[:10000]\n",
    "a = utils.preprocess(a)\n",
    "\n",
    "word_counts = Counter(a)\n",
    "a = sorted(word_counts, key=word_counts.get, reverse=True)\n",
    "a[:10]"
   ]
  },
  {
   "cell_type": "code",
<<<<<<< HEAD
   "execution_count": null,
   "metadata": {},
   "outputs": [],
=======
   "execution_count": 9,
   "metadata": {},
   "outputs": [
    {
     "data": {
      "text/plain": [
       "[('anarchism', 15),\n",
       " ('originated', 1),\n",
       " ('as', 25),\n",
       " ('a', 23),\n",
       " ('term', 5),\n",
       " ('of', 59),\n",
       " ('abuse', 2),\n",
       " ('first', 10),\n",
       " ('used', 3),\n",
       " ('against', 4)]"
      ]
     },
     "execution_count": 9,
     "metadata": {},
     "output_type": "execute_result"
    }
   ],
>>>>>>> 86d4b1b3b11cc84ac91b7d5ff8e8d72eb93bc815
   "source": [
    "list(zip(word_counts.keys(),word_counts.values()))[:10]"
   ]
  },
  {
   "cell_type": "code",
<<<<<<< HEAD
   "execution_count": null,
   "metadata": {},
   "outputs": [],
=======
   "execution_count": 10,
   "metadata": {},
   "outputs": [
    {
     "data": {
      "text/plain": [
       "15"
      ]
     },
     "execution_count": 10,
     "metadata": {},
     "output_type": "execute_result"
    }
   ],
>>>>>>> 86d4b1b3b11cc84ac91b7d5ff8e8d72eb93bc815
   "source": [
    "word_counts.get('anarchism')"
   ]
  },
  {
   "cell_type": "code",
<<<<<<< HEAD
   "execution_count": null,
=======
   "execution_count": 11,
>>>>>>> 86d4b1b3b11cc84ac91b7d5ff8e8d72eb93bc815
   "metadata": {},
   "outputs": [],
   "source": [
    "def get_target(words, idx, window_size=5):\n",
    "    ''' Get a list of words in a window around an index. '''\n",
    "    \n",
    "    # implement this function\n",
    "    r = int(random.random() * window_size) + 1\n",
    "#     print(\"r= \",r)\n",
    "    start = idx-r if idx>=r else 0\n",
    "    target = words[start:idx] + words[idx+1:idx+r+1]\n",
    "\n",
    "    return list(target),r\n"
   ]
  },
  {
   "cell_type": "code",
<<<<<<< HEAD
   "execution_count": null,
   "metadata": {},
   "outputs": [],
=======
   "execution_count": 12,
   "metadata": {},
   "outputs": [
    {
     "name": "stdout",
     "output_type": "stream",
     "text": [
      "Input:  [0, 1, 2, 3, 4, 5, 6, 7, 8, 9]\n",
      "Target:  [2, 3, 4, 6, 7, 8]\n"
     ]
    }
   ],
>>>>>>> 86d4b1b3b11cc84ac91b7d5ff8e8d72eb93bc815
   "source": [
    "# test your code!\n",
    "\n",
    "# run this cell multiple times to check for random window selection\n",
    "int_text = [i for i in range(10)]\n",
    "print('Input: ', int_text)\n",
    "idx=5 # word index of interest\n",
    "\n",
    "target,_ = get_target(int_text, idx=idx, window_size=5)\n",
    "print('Target: ', target)  # you should get some indices around the idx"
   ]
  },
  {
   "cell_type": "markdown",
   "metadata": {},
   "source": [
    "### Generating Batches \n",
    "\n",
    "Here's a generator function that returns batches of input and target data for our model, using the `get_target` function from above. The idea is that it grabs `batch_size` words from a words list. Then for each of those batches, it gets the target words in a window."
   ]
  },
  {
   "cell_type": "code",
<<<<<<< HEAD
   "execution_count": null,
=======
   "execution_count": 13,
>>>>>>> 86d4b1b3b11cc84ac91b7d5ff8e8d72eb93bc815
   "metadata": {},
   "outputs": [],
   "source": [
    "def get_batches(words, batch_size, window_size=5):\n",
    "    ''' Create a generator of word batches as a tuple (inputs, targets) '''\n",
    "    \n",
    "    n_batches = len(words)//batch_size\n",
    "    \n",
    "    # only full batches\n",
    "    words = words[:n_batches*batch_size]\n",
    "    \n",
    "    for idx in range(0, len(words), batch_size):\n",
    "        x, y, r = [], [], []\n",
    "        batch = words[idx:idx+batch_size]\n",
    "        for ii in range(len(batch)):\n",
    "            batch_x = batch[ii]\n",
    "            batch_y, batch_r = get_target(batch, ii, window_size)\n",
    "            y.extend(batch_y)\n",
    "            x.extend([batch_x]*len(batch_y))\n",
    "            r.extend([batch_r]*len(batch_y))\n",
    "        yield x, y, r\n",
    "    "
   ]
  },
  {
   "cell_type": "code",
<<<<<<< HEAD
   "execution_count": null,
   "metadata": {},
   "outputs": [],
=======
   "execution_count": 14,
   "metadata": {},
   "outputs": [
    {
     "name": "stdout",
     "output_type": "stream",
     "text": [
      "x\n",
      " [0, 0, 0, 1, 1, 1, 2, 2, 3, 3, 3]\n",
      "y\n",
      " [1, 2, 3, 0, 2, 3, 1, 3, 0, 1, 2]\n"
     ]
    }
   ],
>>>>>>> 86d4b1b3b11cc84ac91b7d5ff8e8d72eb93bc815
   "source": [
    "int_text = [i for i in range(20)]\n",
    "x,y,_ = next(get_batches(int_text, batch_size=4, window_size=5))\n",
    "\n",
    "print('x\\n', x)\n",
    "print('y\\n', y)"
   ]
  },
  {
   "cell_type": "code",
<<<<<<< HEAD
   "execution_count": null,
   "metadata": {},
   "outputs": [],
=======
   "execution_count": 15,
   "metadata": {},
   "outputs": [
    {
     "name": "stdout",
     "output_type": "stream",
     "text": [
      "text=  anarchism originated as a term of abuse first used against early working class radicals including the diggers of the english revolution and the sans culottes of the french revolution whilst the term \n",
      "\n",
      "('term', 'a', 3)\n",
      "('term', 'of', 3)\n",
      "('term', 'abuse', 3)\n",
      "('term', 'first', 3)\n",
      "('of', 'as', 3)\n",
      "('of', 'a', 3)\n",
      "('of', 'term', 3)\n",
      "('of', 'abuse', 3)\n",
      "('of', 'first', 3)\n",
      "('of', 'used', 3)\n",
      "('abuse', 'as', 4)\n",
      "('abuse', 'a', 4)\n",
      "('abuse', 'term', 4)\n",
      "('abuse', 'of', 4)\n",
      "('abuse', 'first', 4)\n",
      "('abuse', 'used', 4)\n",
      "('abuse', 'against', 4)\n",
      "('abuse', 'early', 4)\n",
      "('first', 'of', 2)\n",
      "('first', 'abuse', 2)\n",
      "('first', 'used', 2)\n",
      "('first', 'against', 2)\n",
      "('used', 'first', 1)\n",
      "('used', 'against', 1)\n",
      "('against', 'used', 1)\n",
      "('against', 'early', 1)\n",
      "('early', 'of', 5)\n",
      "('early', 'abuse', 5)\n",
      "('early', 'first', 5)\n",
      "('early', 'used', 5)\n",
      "('early', 'against', 5)\n",
      "('early', 'working', 5)\n",
      "('early', 'class', 5)\n",
      "('early', 'radicals', 5)\n",
      "('early', 'including', 5)\n",
      "('early', 'the', 5)\n",
      "('working', 'abuse', 5)\n",
      "('working', 'first', 5)\n",
      "('working', 'used', 5)\n",
      "('working', 'against', 5)\n",
      "('working', 'early', 5)\n",
      "('working', 'class', 5)\n",
      "('working', 'radicals', 5)\n",
      "('working', 'including', 5)\n",
      "('working', 'the', 5)\n",
      "('working', 'diggers', 5)\n",
      "('class', 'working', 1)\n",
      "('class', 'radicals', 1)\n",
      "('radicals', 'used', 5)\n",
      "('radicals', 'against', 5)\n",
      "('radicals', 'early', 5)\n",
      "('radicals', 'working', 5)\n",
      "('radicals', 'class', 5)\n",
      "('radicals', 'including', 5)\n",
      "('radicals', 'the', 5)\n",
      "('radicals', 'diggers', 5)\n",
      "('radicals', 'of', 5)\n",
      "('radicals', 'the', 5)\n",
      "('including', 'radicals', 1)\n",
      "('including', 'the', 1)\n",
      "('the', 'radicals', 2)\n",
      "('the', 'including', 2)\n",
      "('the', 'diggers', 2)\n",
      "('the', 'of', 2)\n",
      "('diggers', 'working', 5)\n",
      "('diggers', 'class', 5)\n",
      "('diggers', 'radicals', 5)\n",
      "('diggers', 'including', 5)\n",
      "('diggers', 'the', 5)\n",
      "('diggers', 'of', 5)\n",
      "('diggers', 'the', 5)\n",
      "('diggers', 'english', 5)\n",
      "('diggers', 'revolution', 5)\n",
      "('diggers', 'and', 5)\n",
      "('of', 'diggers', 1)\n",
      "('of', 'the', 1)\n",
      "('the', 'the', 3)\n",
      "('the', 'diggers', 3)\n",
      "('the', 'of', 3)\n",
      "('the', 'english', 3)\n",
      "('the', 'revolution', 3)\n",
      "('the', 'and', 3)\n",
      "('english', 'diggers', 3)\n",
      "('english', 'of', 3)\n",
      "('english', 'the', 3)\n",
      "('english', 'revolution', 3)\n",
      "('english', 'and', 3)\n",
      "('english', 'the', 3)\n",
      "('revolution', 'of', 3)\n",
      "('revolution', 'the', 3)\n",
      "('revolution', 'english', 3)\n",
      "('revolution', 'and', 3)\n",
      "('revolution', 'the', 3)\n",
      "('revolution', 'sans', 3)\n",
      "('and', 'diggers', 5)\n",
      "('and', 'of', 5)\n",
      "('and', 'the', 5)\n",
      "('and', 'english', 5)\n",
      "('and', 'revolution', 5)\n",
      "('and', 'the', 5)\n",
      "('and', 'sans', 5)\n",
      "('and', 'culottes', 5)\n",
      "('and', 'of', 5)\n",
      "('and', 'the', 5)\n",
      "('the', 'and', 1)\n",
      "('the', 'sans', 1)\n",
      "('sans', 'the', 1)\n",
      "('sans', 'culottes', 1)\n",
      "('culottes', 'sans', 1)\n",
      "('culottes', 'of', 1)\n",
      "('of', 'the', 3)\n",
      "('of', 'sans', 3)\n",
      "('of', 'culottes', 3)\n",
      "('of', 'the', 3)\n",
      "('of', 'french', 3)\n",
      "('of', 'revolution', 3)\n",
      "('the', 'sans', 3)\n",
      "('the', 'culottes', 3)\n",
      "('the', 'of', 3)\n",
      "('the', 'french', 3)\n",
      "('the', 'revolution', 3)\n",
      "('the', 'whilst', 3)\n",
      "('french', 'culottes', 3)\n",
      "('french', 'of', 3)\n",
      "('french', 'the', 3)\n",
      "('french', 'revolution', 3)\n",
      "('french', 'whilst', 3)\n",
      "('revolution', 'the', 2)\n",
      "('revolution', 'french', 2)\n",
      "('revolution', 'whilst', 2)\n",
      "('whilst', 'revolution', 1)\n"
     ]
    }
   ],
>>>>>>> 86d4b1b3b11cc84ac91b7d5ff8e8d72eb93bc815
   "source": [
    "in_text = text[:200].split()\n",
    "print('text= {}\\n'.format(text[:200]))\n",
    "\n",
    "x,y,r = next(get_batches(in_text, batch_size=30, window_size=5))\n",
    "\n",
    "for idx, it in enumerate(list(zip(x,y,r))):\n",
    "    if idx > 14:\n",
    "        print(it)"
   ]
  },
  {
   "cell_type": "markdown",
   "metadata": {},
   "source": [
    "## Building the graph\n",
    "\n",
    "Below is an approximate diagram of the general structure of our network.\n",
    "<img src=\"assets/skip_gram_arch.png\" width=60%>\n",
    "\n",
    ">* The input words are passed in as batches of input word tokens. \n",
    "* This will go into a hidden layer of linear units (our embedding layer). \n",
    "* Then, finally into a softmax output layer. \n",
    "\n",
    "We'll use the softmax layer to make a prediction about the context words by sampling, as usual.\n",
    "\n",
    "The idea here is to train the embedding layer weight matrix to find efficient representations for our words. We can discard the softmax layer because we don't really care about making predictions with this network. We just want the embedding matrix so we can use it in _other_ networks we build using this dataset."
   ]
  },
  {
   "cell_type": "markdown",
   "metadata": {},
   "source": [
    "---\n",
    "## Validation\n",
    "\n",
    "Here, I'm creating a function that will help us observe our model as it learns. We're going to choose a few common words and few uncommon words. Then, we'll print out the closest words to them using the cosine similarity: \n",
    "\n",
    "<img src=\"assets/two_vectors.png\" width=30%>\n",
    "\n",
    "$$\n",
    "\\mathrm{similarity} = \\cos(\\theta) = \\frac{\\vec{a} \\cdot \\vec{b}}{|\\vec{a}||\\vec{b}|}\n",
    "$$\n",
    "\n",
    "\n",
    "We can encode the validation words as vectors $\\vec{a}$ using the embedding table, then calculate the similarity with each word vector $\\vec{b}$ in the embedding table. With the similarities, we can print out the validation words and words in our embedding table semantically similar to those words. It's a nice way to check that our embedding table is grouping together words with similar semantic meanings."
   ]
  },
  {
   "cell_type": "code",
   "execution_count": 16,
   "metadata": {},
   "outputs": [],
   "source": [
    "def cosine_similarity(embedding, valid_size=16, valid_window=100, device='cpu'):\n",
    "    \"\"\" Returns the cosine similarity of validation words with words in the embedding matrix.\n",
    "        Here, embedding should be a PyTorch embedding module.\n",
    "    \"\"\"\n",
    "    \n",
    "    # Here we're calculating the cosine similarity between some random words and \n",
    "    # our embedding vectors. With the similarities, we can look at what words are\n",
    "    # close to our random words.\n",
    "    \n",
    "    # sim = (a . b) / |a||b|\n",
    "    \n",
    "    embed_vectors = embedding.weight\n",
    "    \n",
    "    # magnitude of embedding vectors, |b|\n",
    "    magnitudes = embed_vectors.pow(2).sum(dim=1).sqrt().unsqueeze(0)\n",
    "    \n",
    "    # pick N words from our ranges (0,window) and (1000,1000+window). lower id implies more frequent \n",
    "    valid_examples = np.array(random.sample(range(valid_window), valid_size//2))\n",
    "    valid_examples = np.append(valid_examples,\n",
    "                               random.sample(range(1000,1000+valid_window), valid_size//2))\n",
    "    valid_examples = torch.LongTensor(valid_examples).to(device)\n",
    "    \n",
    "    valid_vectors = embedding(valid_examples)\n",
    "    similarities = torch.mm(valid_vectors, embed_vectors.t())/magnitudes\n",
    "        \n",
    "    return valid_examples, similarities"
   ]
  },
  {
   "cell_type": "markdown",
   "metadata": {},
   "source": [
    "## SkipGram model\n",
    "\n",
    "Define and train the SkipGram model. \n",
    "> You'll need to define an [embedding layer](https://pytorch.org/docs/stable/nn.html#embedding) and a final, softmax output layer.\n",
    "\n",
    "An Embedding layer takes in a number of inputs, importantly:\n",
    "* **num_embeddings** – the size of the dictionary of embeddings, or how many rows you'll want in the embedding weight matrix\n",
    "* **embedding_dim** – the size of each embedding vector; the embedding dimension"
   ]
  },
  {
   "cell_type": "code",
<<<<<<< HEAD
   "execution_count": null,
=======
   "execution_count": 17,
>>>>>>> 86d4b1b3b11cc84ac91b7d5ff8e8d72eb93bc815
   "metadata": {},
   "outputs": [],
   "source": [
    "import torch\n",
    "from torch import nn\n",
    "import torch.optim as optim"
   ]
  },
  {
   "cell_type": "code",
<<<<<<< HEAD
   "execution_count": null,
   "metadata": {},
   "outputs": [],
=======
   "execution_count": 18,
   "metadata": {},
   "outputs": [
    {
     "data": {
      "text/plain": [
       "253854"
      ]
     },
     "execution_count": 18,
     "metadata": {},
     "output_type": "execute_result"
    }
   ],
>>>>>>> 86d4b1b3b11cc84ac91b7d5ff8e8d72eb93bc815
   "source": [
    "len(vocab_to_int.keys())"
   ]
  },
  {
   "cell_type": "code",
<<<<<<< HEAD
   "execution_count": null,
   "metadata": {},
   "outputs": [],
=======
   "execution_count": 19,
   "metadata": {},
   "outputs": [
    {
     "data": {
      "text/plain": [
       "253854"
      ]
     },
     "execution_count": 19,
     "metadata": {},
     "output_type": "execute_result"
    }
   ],
>>>>>>> 86d4b1b3b11cc84ac91b7d5ff8e8d72eb93bc815
   "source": [
    "len(set(train_words))"
   ]
  },
  {
   "cell_type": "code",
<<<<<<< HEAD
   "execution_count": null,
=======
   "execution_count": 20,
>>>>>>> 86d4b1b3b11cc84ac91b7d5ff8e8d72eb93bc815
   "metadata": {},
   "outputs": [],
   "source": [
    "class SkipGram(nn.Module):\n",
    "    def __init__(self, n_vocab, n_embed):\n",
    "        super().__init__()\n",
    "        \n",
    "        # complete this SkipGram model\n",
    "        self.embed = nn.Embedding(n_vocab, n_embed)\n",
    "        self.fc = nn.Linear(n_embed, n_vocab)\n",
    "        self.log_softmax = nn.LogSoftmax(dim=1)\n",
    "    def forward(self, x):\n",
    "        \n",
    "        # define the forward behavior\n",
    "        x = self.embed(x)\n",
    "        score = self.fc(x)\n",
    "        log_ps= self.log_softmax(score)\n",
    "        return log_ps"
   ]
  },
  {
   "cell_type": "markdown",
   "metadata": {},
   "source": [
    "### Training\n",
    "\n",
    "Below is our training loop, and I recommend that you train on GPU, if available.\n",
    "\n",
    "**Note that, because we applied a softmax function to our model output, we are using NLLLoss** as opposed to cross entropy. This is because Softmax  in combination with NLLLoss = CrossEntropy loss ."
   ]
  },
  {
   "cell_type": "code",
   "execution_count": null,
   "metadata": {
    "scrolled": false
   },
<<<<<<< HEAD
   "outputs": [],
=======
   "outputs": [
    {
     "name": "stdout",
     "output_type": "stream",
     "text": [
      "are | fideists, mopti, nemeri, future, jorma\n",
      "nine | halibut, mobilizes, knapp, unchanging, karting\n",
      "people | interrotron, refuses, sophias, purchasable, luftverteidigungsdiesel\n",
      "his | rica, assured, stumpf, asiilasooq, ecclesiasticus\n",
      "such | supercooling, attractively, swedenborg, stamen, copyists\n",
      "these | gizzard, ucx, hom, pyridine, kaethe\n",
      "an | vedat, xylanes, ovalis, mfecane, pentahapto\n",
      "for | bedlington, nneke, trentham, hannuka, nickelodeon\n",
      "running | ashenazic, loveparade, proibite, pinker, harmachis\n",
      "mean | wisman, haandbold, oceanography, composters, greenies\n",
      "hit | icsvlsi, epistemic, contortion, kageyama, unrationalizable\n",
      "universe | maryville, odaiko, qassam, returing, abc\n",
      "pope | ethanoic, parus, lipit, spondee, sasko\n",
      "versions | schildt, yvind, aynak, corroborating, mcbeth\n",
      "applied | kakheti, shakti, wonersh, beaujour, earphones\n",
      "additional | kindliness, koyna, narain, xindunga, abrechnung\n",
      "...\n",
      "used | musculus, flavour, desaturated, ticheli, biwmares\n",
      "called | mniejsze, trasnochadora, fechtbuch, navarre, cshrc\n",
      "war | ruettgers, herligheder, resective, warriorship, ornata\n",
      "at | recomposed, ointment, theosophist, rumyantsev, trilok\n",
      "these | gizzard, hom, pyridine, kaethe, ucx\n",
      "were | admittancedate, orfe, ndlund, bragnings, coimage\n",
      "about | whips, random, biaxin, innsmouth, bjerknes\n",
      "two | khabushan, predicatively, euforum, krzycza, bundesamt\n",
      "paris | arranged, kolpak, colouristic, giarratano, mundur\n",
      "older | nonintrusive, showstopper, revolver, kinnegad, gado\n",
      "gold | dx, skoshi, harlequin, douay, mbda\n",
      "alternative | anticonvulsants, dogged, propeller, healiers, sylvian\n",
      "running | ashenazic, loveparade, proibite, harmachis, rivendell\n",
      "channel | ultramar, ancholik, harz, frigida, aristoteles\n",
      "behind | bing, primera, respectivly, ostrowski, arlogo\n",
      "articles | topos, kewkwaxa, raked, ellstein, conseller\n",
      "...\n",
      "called | navarre, mniejsze, fechtbuch, trasnochadora, cshrc\n",
      "will | pomfret, unarticulated, litvinsky, ambrosiano, domr\n",
      "nine | halibut, knapp, mobilizes, unchanging, salvage\n",
      "from | mudaliar, nucl, montcada, galets, svenskt\n",
      "used | desaturated, musculus, flavour, ticheli, ynt\n",
      "th | blue, cvm, caused, elend, instillation\n",
      "known | founds, bijlmer, looksmart, stradford, newsbank\n",
      "if | televisie, gerrold, llantada, coupleux, salmdyckii\n",
      "mathematics | featherbedders, sackville, engelmanni, meit, crawling\n",
      "numerous | flexbeta, resonate, tolstykh, shreeram, lhwp\n",
      "hit | icsvlsi, epistemic, contortion, unrationalizable, kageyama\n",
      "quite | chokepoints, originaly, behaim, kavod, haemophiliac\n",
      "additional | kindliness, koyna, narain, xindunga, abrechnung\n",
      "derived | dynamaphone, sallis, hyphasis, consonant, villadarias\n",
      "universe | maryville, odaiko, abc, returing, otf\n",
      "except | flowcharts, sdc, wirtschaftsmediation, natively, ltaine\n",
      "...\n",
      "five | arses, gooseberry, namboothiri, sociobiological, kibibyte\n",
      "one | eldre, hty, sorghum, jvm, phorkys\n",
      "no | caseenglish, russolo, stiffen, lineback, pkunzip\n",
      "of | bolshevist, reappointed, mxn, dundonian, cacotopia\n",
      "from | mudaliar, nucl, montcada, galets, jhal\n",
      "i | iwanohime, sabina, geschwind, corpo, cls\n",
      "was | fum, toffee, laukums, bmc, unterfranken\n",
      "three | opless, uyl, phill, russland, insulates\n",
      "cost | teborgs, fourvi, partible, oxaphosphetane, chesed\n",
      "stage | faults, spasskaya, hieroclem, barbe, buyout\n",
      "assembly | amateau, netlingo, buffyverse, einschienenbahn, aley\n",
      "professional | proserpina, polestar, dweezil, augoeides, benedicte\n",
      "shows | birches, mbpm, villiers, nandinia, czapski\n",
      "active | implication, zbd, okrent, colgan, virtues\n",
      "magazine | kortner, jask, swish, racers, proceedes\n",
      "event | sales, macroevolution, chesterian, cherrie, polearm\n",
      "...\n",
      "many | quad, nearness, chedugudu, ipo, macmap\n",
      "time | sunbelt, nayiri, vrishabha, ofr, peaches\n",
      "of | bolshevist, reappointed, mxn, notecards, benedick\n",
      "used | desaturated, musculus, ticheli, flavour, ynt\n",
      "up | gathogo, fouling, syro, ecap, fiorino\n",
      "zero | fracl, sidetone, kaino, young, kikombo\n",
      "at | recomposed, ointment, theosophist, trilok, coolidge\n",
      "over | onomatopoeia, xanalys, dumping, panarchy, bramaugau\n",
      "additional | kindliness, koyna, scheduling, narain, xindunga\n",
      "units | gavins, claret, fraud, choran, andreou\n",
      "bill | fregoso, wgrr, hpentosan, dpnss, peristaltic\n",
      "applied | kakheti, shakti, electricsoup, beaujour, wonersh\n",
      "taking | weinman, cliches, vexatious, cardioids, deoxyribozymes\n",
      "powers | bahais, decks, nootka, copywriters, turina\n",
      "mainly | bboard, thorbj, schiermonnikoogs, mortuos, demonax\n",
      "running | ashenazic, proibite, rivendell, loveparade, harmachis\n",
      "...\n",
      "one | eldre, jvm, hty, lcc, lithotabs\n",
      "on | lena, markbass, placebos, atgw, tabetagatte\n",
      "five | arses, barnardo, gooseberry, kibibyte, sociobiological\n",
      "united | engraving, warchief, whynot, resettled, ichinose\n",
      "that | tranche, ragnvaldi, muntz, graphically, dentoserratis\n",
      "they | lusk, battelle, achakanya, populism, helpfully\n",
      "time | sunbelt, nayiri, ofr, vrishabha, peaches\n",
      "s | dolls, brightness, cellist, halicarnassus, cyclopean\n",
      "recorded | dench, fipr, eliane, tillemont, widgeon\n",
      "hold | spitzes, converges, hadji, comillas, acousticians\n",
      "creation | mordavia, coeruleoalba, superheroine, euroorden, inkpots\n",
      "engineering | investigators, arebati, shivani, ogg, vannecke\n",
      "bbc | peen, seiryu, rehearses, oubli, rbi\n",
      "quite | behaim, originaly, kavod, chokepoints, haemophiliac\n",
      "older | showstopper, nonintrusive, revolver, kinnegad, gado\n",
      "construction | redub, manneristic, limanowa, improbable, chilies\n",
      "...\n",
      "history | mehmood, telephonenumber, ahven, visquiz, contretemps\n",
      "zero | fracl, young, sidetone, kaino, kikombo\n",
      "many | quad, nearness, chedugudu, ipo, ribersborgs\n",
      "united | engraving, warchief, whynot, resettled, ichinose\n",
      "were | vince, orfe, admittancedate, shvartsers, odorose\n",
      "may | chisme, hypercharge, litanies, secolo, multiflora\n",
      "six | walesa, azevedo, smg, welds, mhz\n",
      "not | opv, fayburgh, sukii, courbes, yippie\n",
      "engineering | investigators, arebati, ogg, shivani, vannecke\n",
      "shown | nasrullah, picadilly, csopak, unforced, conciliate\n",
      "engine | hostafrancs, innning, prize, kulmer, parkgate\n",
      "alternative | anticonvulsants, dogged, healiers, propeller, sylvian\n",
      "recorded | dench, fipr, eliane, tillemont, widgeon\n",
      "resources | deconcentrated, kheta, roeg, columbard, wikisource\n",
      "universe | maryville, odaiko, qassam, abc, otf\n",
      "existence | mantinea, entrust, frissen, flith, rajput\n",
      "...\n",
      "over | onomatopoeia, compiler, brittle, panarchy, xanalys\n",
      "five | arses, gooseberry, kibibyte, sociobiological, barnardo\n",
      "d | hillerman, parachela, homosocial, asiento, blindfish\n",
      "his | pakistan, rica, simoni, stumpf, realign\n",
      "two | euforum, predicatively, khabushan, hadden, krzycza\n",
      "war | ruettgers, ornata, warriorship, makkara, biskopsg\n",
      "at | recomposed, theosophist, sloser, merchandisings, ointment\n",
      "while | unsalted, orthopedic, kobun, eugenio, testimony\n",
      "egypt | eldr, lampridius, propitiate, stoptriclosan, falcao\n",
      "placed | amungme, chelating, rudge, phoned, munegu\n",
      "quite | behaim, chokepoints, kavod, originaly, haemophiliac\n",
      "gold | dx, skoshi, inneres, douay, eisler\n",
      "issue | heterosexism, dally, bagging, clervoy, bestial\n",
      "paris | kolpak, arranged, colouristic, exokernel, mundur\n",
      "alternative | anticonvulsants, dogged, healiers, propeller, miernek\n",
      "woman | crocodile, dynamiting, latona, binhex, chads\n",
      "...\n",
      "state | sien, bicieli, vaidman, tuneful, faros\n",
      "years | congress, icemark, cancon, asynchronously, sciri\n",
      "their | heterosexuality, kaore, conformable, classicauthors, nihlathak\n",
      "but | proa, wraz, kisis, blackbodies, cebm\n",
      "the | interleukins, haihtuma, kyocera, magnetoreceptor, cardplayer\n",
      "it | supplied, nigsmarck, werde, modelingnts, sk\n",
      "so | longhand, totemic, uncopyrightable, lct, exculpatory\n",
      "states | shikomor, puntigliose, reativity, owenites, brisgavi\n",
      "liberal | maskers, congwen, katino, eljka, whymper\n",
      "engineering | arebati, investigators, shivani, ogg, weeps\n",
      "marriage | righi, reasons, discovery, arata, hedgefund\n",
      "police | capricorni, khmu, gustavia, hydroxybutanoic, nadya\n",
      "accepted | okuma, minicd, oregonians, delany, eastwards\n",
      "ocean | bourgeois, fillan, hermennia, shunem, ferrovi\n",
      "creation | mordavia, coeruleoalba, euroorden, superheroine, contextualized\n",
      "lived | jicamarca, idr, larceny, csbc, munificent\n",
      "...\n",
      "during | sovern, artcyclopedia, morayshire, briolette, ombs\n",
      "eight | meshullam, zero, heider, naolan, feegle\n",
      "the | interleukins, kyocera, magnetoreceptor, haihtuma, beag\n",
      "between | agathocles, bondhus, chicken, bouligand, seated\n",
      "people | refuses, sophias, alissa, interrotron, frisco\n",
      "years | congress, icemark, cancon, two, deaths\n",
      "but | proa, wraz, kisis, bap, blackbodies\n",
      "and | assenheim, schickelgruber, aerobic, danti, ouse\n",
      "gold | dx, skoshi, inneres, douay, harlequin\n",
      "powers | bahais, decks, nootka, vocant, eccentricity\n",
      "ocean | bourgeois, hermennia, fillan, ferrovi, shunem\n",
      "units | eckstrand, gavins, claret, andreou, systems\n",
      "woman | crocodile, dynamiting, latona, atemi, akhos\n",
      "mathematics | engelmanni, sackville, featherbedders, meit, freecell\n",
      "smith | lasing, natator, biblaridion, letterboxer, bromacil\n",
      "event | sales, macroevolution, eurosynth, chesterian, polearm\n",
      "...\n"
     ]
    }
   ],
>>>>>>> 86d4b1b3b11cc84ac91b7d5ff8e8d72eb93bc815
   "source": [
    "# check if GPU is available\n",
    "device = 'cuda' if torch.cuda.is_available() else 'cpu'\n",
    "\n",
    "embedding_dim=300 # you can change, if you want\n",
    "\n",
    "model = SkipGram(len(vocab_to_int), embedding_dim).to(device)\n",
    "criterion = nn.NLLLoss()\n",
    "optimizer = optim.Adam(model.parameters(), lr=0.003)\n",
    "\n",
    "print_every = 500\n",
    "steps = 0\n",
    "epochs = 5\n",
    "\n",
    "# train for some number of epochs\n",
    "for e in range(epochs):\n",
    "    \n",
    "    # get input and target batches\n",
    "    for inputs, targets, _ in get_batches(train_words, 256):\n",
    "        steps += 1\n",
    "        inputs, targets = torch.LongTensor(inputs), torch.LongTensor(targets)\n",
    "        inputs, targets = inputs.to(device), targets.to(device)\n",
    "        \n",
    "        log_ps = model(inputs)\n",
    "        loss = criterion(log_ps, targets)\n",
    "        optimizer.zero_grad()\n",
    "        loss.backward()\n",
    "        optimizer.step()\n",
    "\n",
    "        if steps % print_every == 0:                  \n",
    "            # getting examples and similarities      \n",
    "            valid_examples, valid_similarities = cosine_similarity(model.embed, device=device)\n",
    "            _, closest_idxs = valid_similarities.topk(6) # topk highest similarities\n",
    "            \n",
    "            valid_examples, closest_idxs = valid_examples.to('cpu'), closest_idxs.to('cpu')\n",
    "            for ii, valid_idx in enumerate(valid_examples):\n",
    "                closest_words = [int_to_vocab[idx.item()] for idx in closest_idxs[ii]][1:]\n",
    "                print(int_to_vocab[valid_idx.item()] + \" | \" + ', '.join(closest_words))\n",
    "            print(\"...\")"
   ]
  },
  {
   "cell_type": "markdown",
   "metadata": {},
   "source": [
    "## Visualizing the word vectors\n",
    "\n",
    "Below we'll use T-SNE to visualize how our high-dimensional word vectors cluster together. T-SNE is used to project these vectors into two dimensions while preserving local stucture. Check out [this post from Christopher Olah](http://colah.github.io/posts/2014-10-Visualizing-MNIST/) to learn more about T-SNE and other ways to visualize high-dimensional data."
   ]
  },
  {
   "cell_type": "code",
   "execution_count": null,
   "metadata": {},
   "outputs": [],
   "source": [
    "%matplotlib inline\n",
    "%config InlineBackend.figure_format = 'retina'\n",
    "\n",
    "import matplotlib.pyplot as plt\n",
    "from sklearn.manifold import TSNE"
   ]
  },
  {
   "cell_type": "code",
   "execution_count": null,
   "metadata": {},
   "outputs": [],
   "source": [
    "# getting embeddings from the embedding layer of our model, by name\n",
    "embeddings = model.embed.weight.to('cpu').data.numpy()"
   ]
  },
  {
   "cell_type": "code",
   "execution_count": null,
   "metadata": {},
   "outputs": [],
   "source": [
    "viz_words = 600\n",
    "tsne = TSNE()\n",
    "embed_tsne = tsne.fit_transform(embeddings[:viz_words, :])"
   ]
  },
  {
   "cell_type": "code",
   "execution_count": null,
   "metadata": {},
   "outputs": [],
   "source": [
    "fig, ax = plt.subplots(figsize=(16, 16))\n",
    "for idx in range(viz_words):\n",
    "    plt.scatter(*embed_tsne[idx, :], color='steelblue')\n",
    "    plt.annotate(int_to_vocab[idx], (embed_tsne[idx, 0], embed_tsne[idx, 1]), alpha=0.7)"
   ]
  },
  {
   "cell_type": "code",
   "execution_count": null,
   "metadata": {},
   "outputs": [],
   "source": []
  }
 ],
 "metadata": {
  "kernelspec": {
   "display_name": "Python 3",
   "language": "python",
   "name": "python3"
  },
  "language_info": {
   "codemirror_mode": {
    "name": "ipython",
    "version": 3
   },
   "file_extension": ".py",
   "mimetype": "text/x-python",
   "name": "python",
   "nbconvert_exporter": "python",
   "pygments_lexer": "ipython3",
   "version": "3.6.8"
  }
 },
 "nbformat": 4,
 "nbformat_minor": 2
}
