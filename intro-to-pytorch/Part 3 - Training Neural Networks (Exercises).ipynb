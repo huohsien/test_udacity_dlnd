{
 "cells": [
  {
   "cell_type": "markdown",
   "metadata": {},
   "source": [
    "# Training Neural Networks\n",
    "\n",
    "The network we built in the previous part isn't so smart, it doesn't know anything about our handwritten digits. Neural networks with non-linear activations work like universal function approximators. There is some function that maps your input to the output. For example, images of handwritten digits to class probabilities. The power of neural networks is that we can train them to approximate this function, and basically any function given enough data and compute time.\n",
    "\n",
    "<img src=\"assets/function_approx.png\" width=500px>\n",
    "\n",
    "At first the network is naive, it doesn't know the function mapping the inputs to the outputs. We train the network by showing it examples of real data, then adjusting the network parameters such that it approximates this function.\n",
    "\n",
    "To find these parameters, we need to know how poorly the network is predicting the real outputs. For this we calculate a **loss function** (also called the cost), a measure of our prediction error. For example, the mean squared loss is often used in regression and binary classification problems\n",
    "\n",
    "$$\n",
    "\\large \\ell = \\frac{1}{2n}\\sum_i^n{\\left(y_i - \\hat{y}_i\\right)^2}\n",
    "$$\n",
    "\n",
    "where $n$ is the number of training examples, $y_i$ are the true labels, and $\\hat{y}_i$ are the predicted labels.\n",
    "\n",
    "By minimizing this loss with respect to the network parameters, we can find configurations where the loss is at a minimum and the network is able to predict the correct labels with high accuracy. We find this minimum using a process called **gradient descent**. The gradient is the slope of the loss function and points in the direction of fastest change. To get to the minimum in the least amount of time, we then want to follow the gradient (downwards). You can think of this like descending a mountain by following the steepest slope to the base.\n",
    "\n",
    "<img src='assets/gradient_descent.png' width=350px>"
   ]
  },
  {
   "cell_type": "markdown",
   "metadata": {},
   "source": [
    "## Backpropagation\n",
    "\n",
    "For single layer networks, gradient descent is straightforward to implement. However, it's more complicated for deeper, multilayer neural networks like the one we've built. Complicated enough that it took about 30 years before researchers figured out how to train multilayer networks.\n",
    "\n",
    "Training multilayer networks is done through **backpropagation** which is really just an application of the chain rule from calculus. It's easiest to understand if we convert a two layer network into a graph representation.\n",
    "\n",
    "<img src='assets/backprop_diagram.png' width=550px>\n",
    "\n",
    "In the forward pass through the network, our data and operations go from bottom to top here. We pass the input $x$ through a linear transformation $L_1$ with weights $W_1$ and biases $b_1$. The output then goes through the sigmoid operation $S$ and another linear transformation $L_2$. Finally we calculate the loss $\\ell$. We use the loss as a measure of how bad the network's predictions are. The goal then is to adjust the weights and biases to minimize the loss.\n",
    "\n",
    "To train the weights with gradient descent, we propagate the gradient of the loss backwards through the network. Each operation has some gradient between the inputs and outputs. As we send the gradients backwards, we multiply the incoming gradient with the gradient for the operation. Mathematically, this is really just calculating the gradient of the loss with respect to the weights using the chain rule.\n",
    "\n",
    "$$\n",
    "\\large \\frac{\\partial \\ell}{\\partial W_1} = \\frac{\\partial L_1}{\\partial W_1} \\frac{\\partial S}{\\partial L_1} \\frac{\\partial L_2}{\\partial S} \\frac{\\partial \\ell}{\\partial L_2}\n",
    "$$\n",
    "\n",
    "**Note:** I'm glossing over a few details here that require some knowledge of vector calculus, but they aren't necessary to understand what's going on.\n",
    "\n",
    "We update our weights using this gradient with some learning rate $\\alpha$. \n",
    "\n",
    "$$\n",
    "\\large W^\\prime_1 = W_1 - \\alpha \\frac{\\partial \\ell}{\\partial W_1}\n",
    "$$\n",
    "\n",
    "The learning rate $\\alpha$ is set such that the weight update steps are small enough that the iterative method settles in a minimum."
   ]
  },
  {
   "cell_type": "markdown",
   "metadata": {},
   "source": [
    "## Losses in PyTorch\n",
    "\n",
    "Let's start by seeing how we calculate the loss with PyTorch. Through the `nn` module, PyTorch provides losses such as the cross-entropy loss (`nn.CrossEntropyLoss`). You'll usually see the loss assigned to `criterion`. As noted in the last part, with a classification problem such as MNIST, we're using the softmax function to predict class probabilities. With a softmax output, you want to use cross-entropy as the loss. To actually calculate the loss, you first define the criterion then pass in the output of your network and the correct labels.\n",
    "\n",
    "Something really important to note here. Looking at [the documentation for `nn.CrossEntropyLoss`](https://pytorch.org/docs/stable/nn.html#torch.nn.CrossEntropyLoss),\n",
    "\n",
    "> This criterion combines `nn.LogSoftmax()` and `nn.NLLLoss()` in one single class.\n",
    ">\n",
    "> The input is expected to contain scores for each class.\n",
    "\n",
    "This means we need to pass in the raw output of our network into the loss, not the output of the softmax function. This raw output is usually called the *logits* or *scores*. We use the logits because softmax gives you probabilities which will often be very close to zero or one but floating-point numbers can't accurately represent values near zero or one ([read more here](https://docs.python.org/3/tutorial/floatingpoint.html)). It's usually best to avoid doing calculations with probabilities, typically we use log-probabilities."
   ]
  },
  {
   "cell_type": "code",
   "execution_count": 9,
   "metadata": {},
   "outputs": [],
   "source": [
    "import torch\n",
    "from torch import nn\n",
    "import torch.nn.functional as F\n",
    "from torchvision import datasets, transforms\n",
    "\n",
    "# Define a transform to normalize the data\n",
    "transform = transforms.Compose([transforms.ToTensor(),\n",
    "                              transforms.Normalize((0.5,), (0.5,)),\n",
    "                              ])\n",
    "# Download and load the training data\n",
    "trainset = datasets.MNIST('~/.pytorch/MNIST_data/', download=True, train=True, transform=transform)\n",
    "trainloader = torch.utils.data.DataLoader(trainset, batch_size=64, shuffle=True)\n"
   ]
  },
  {
   "cell_type": "markdown",
   "metadata": {},
   "source": [
    "### Note\n",
    "If you haven't seen `nn.Sequential` yet, please finish the end of the Part 2 notebook."
   ]
  },
  {
   "cell_type": "code",
   "execution_count": 10,
   "metadata": {},
   "outputs": [
    {
     "name": "stdout",
     "output_type": "stream",
     "text": [
      "tensor(2.3196, grad_fn=<NllLossBackward>)\n"
     ]
    }
   ],
   "source": [
    "# Build a feed-forward network\n",
    "model = nn.Sequential(nn.Linear(784, 128),\n",
    "                      nn.ReLU(),\n",
    "                      nn.Linear(128, 64),\n",
    "                      nn.ReLU(),\n",
    "                      nn.Linear(64, 10))\n",
    "\n",
    "# Define the loss\n",
    "criterion = nn.CrossEntropyLoss()\n",
    "\n",
    "# Get our data\n",
    "images, labels = next(iter(trainloader))\n",
    "# Flatten images\n",
    "images = images.view(images.shape[0], -1)\n",
    "\n",
    "# Forward pass, get our logits\n",
    "logits = model(images)\n",
    "# Calculate the loss with the logits and the labels\n",
    "loss = criterion(logits, labels)\n",
    "\n",
    "print(loss)"
   ]
  },
  {
   "cell_type": "markdown",
   "metadata": {},
   "source": [
    "In my experience it's more convenient to build the model with a log-softmax output using `nn.LogSoftmax` or `F.log_softmax` ([documentation](https://pytorch.org/docs/stable/nn.html#torch.nn.LogSoftmax)). Then you can get the actual probabilities by taking the exponential `torch.exp(output)`. With a log-softmax output, you want to use the negative log likelihood loss, `nn.NLLLoss` ([documentation](https://pytorch.org/docs/stable/nn.html#torch.nn.NLLLoss)).\n",
    "\n",
    ">**Exercise:** Build a model that returns the log-softmax as the output and calculate the loss using the negative log likelihood loss. Note that for `nn.LogSoftmax` and `F.log_softmax` you'll need to set the `dim` keyword argument appropriately. `dim=0` calculates softmax across the rows, so each column sums to 1, while `dim=1` calculates across the columns so each row sums to 1. Think about what you want the output to be and choose `dim` appropriately."
   ]
  },
  {
   "cell_type": "code",
   "execution_count": 11,
   "metadata": {},
   "outputs": [
    {
     "name": "stdout",
     "output_type": "stream",
     "text": [
      "images size: torch.Size([64, 784])\n",
      "logits size: torch.Size([64, 10])\n",
      "tensor(2.2951, grad_fn=<NllLossBackward>)\n"
     ]
    }
   ],
   "source": [
    "# TODO: Build a feed-forward network\n",
    "model = nn.Sequential(nn.Linear(784, 128),\n",
    "                      nn.ReLU(),\n",
    "                      nn.Linear(128, 64),\n",
    "                      nn.ReLU(),\n",
    "                      nn.Linear(64,10),\n",
    "                      nn.LogSoftmax(dim=1))\n",
    "\n",
    "# TODO: Define the loss\n",
    "criterion = nn.NLLLoss()\n",
    "\n",
    "### Run this to check your work\n",
    "# Get our data\n",
    "images, labels = next(iter(trainloader))\n",
    "# Flatten images\n",
    "images = images.view(images.shape[0], -1)\n",
    "print('images size:', images.shape)\n",
    "\n",
    "\n",
    "# Forward pass, get our logits\n",
    "logits = model(images)\n",
    "print('logits size:', logits.shape)\n",
    "\n",
    "\n",
    "# Calculate the loss with the logits and the labels\n",
    "loss = criterion(logits, labels)\n",
    "\n",
    "print(loss)"
   ]
  },
  {
   "cell_type": "markdown",
   "metadata": {},
   "source": [
    "## Autograd\n",
    "\n",
    "Now that we know how to calculate a loss, how do we use it to perform backpropagation? Torch provides a module, `autograd`, for automatically calculating the gradients of tensors. We can use it to calculate the gradients of all our parameters with respect to the loss. Autograd works by keeping track of operations performed on tensors, then going backwards through those operations, calculating gradients along the way. To make sure PyTorch keeps track of operations on a tensor and calculates the gradients, you need to set `requires_grad = True` on a tensor. You can do this at creation with the `requires_grad` keyword, or at any time with `x.requires_grad_(True)`.\n",
    "\n",
    "You can turn off gradients for a block of code with the `torch.no_grad()` content:\n",
    "```python\n",
    "x = torch.zeros(1, requires_grad=True)\n",
    ">>> with torch.no_grad():\n",
    "...     y = x * 2\n",
    ">>> y.requires_grad\n",
    "False\n",
    "```\n",
    "\n",
    "Also, you can turn on or off gradients altogether with `torch.set_grad_enabled(True|False)`.\n",
    "\n",
    "The gradients are computed with respect to some variable `z` with `z.backward()`. This does a backward pass through the operations that created `z`."
   ]
  },
  {
   "cell_type": "code",
   "execution_count": 12,
   "metadata": {},
   "outputs": [
    {
     "name": "stdout",
     "output_type": "stream",
     "text": [
      "tensor([[-1.7106, -0.1353],\n",
      "        [-1.6995, -1.0241]], requires_grad=True)\n"
     ]
    }
   ],
   "source": [
    "x = torch.randn(2,2, requires_grad=True)\n",
    "print(x)"
   ]
  },
  {
   "cell_type": "code",
   "execution_count": 13,
   "metadata": {},
   "outputs": [
    {
     "name": "stdout",
     "output_type": "stream",
     "text": [
      "tensor([[2.9263, 0.0183],\n",
      "        [2.8883, 1.0487]], grad_fn=<PowBackward0>)\n"
     ]
    }
   ],
   "source": [
    "y = x**2\n",
    "print(y)"
   ]
  },
  {
   "cell_type": "markdown",
   "metadata": {},
   "source": [
    "Below we can see the operation that created `y`, a power operation `PowBackward0`."
   ]
  },
  {
   "cell_type": "code",
   "execution_count": 14,
   "metadata": {},
   "outputs": [
    {
     "name": "stdout",
     "output_type": "stream",
     "text": [
      "<PowBackward0 object at 0x11c6aa3c8>\n"
     ]
    }
   ],
   "source": [
    "## grad_fn shows the function that generated this variable\n",
    "print(y.grad_fn)"
   ]
  },
  {
   "cell_type": "markdown",
   "metadata": {},
   "source": [
    "The autograd module keeps track of these operations and knows how to calculate the gradient for each one. In this way, it's able to calculate the gradients for a chain of operations, with respect to any one tensor. Let's reduce the tensor `y` to a scalar value, the mean."
   ]
  },
  {
   "cell_type": "code",
   "execution_count": 15,
   "metadata": {},
   "outputs": [
    {
     "name": "stdout",
     "output_type": "stream",
     "text": [
      "tensor(1.7204, grad_fn=<MeanBackward1>)\n"
     ]
    }
   ],
   "source": [
    "z = y.mean()\n",
    "print(z)"
   ]
  },
  {
   "cell_type": "markdown",
   "metadata": {},
   "source": [
    "You can check the gradients for `x` and `y` but they are empty currently."
   ]
  },
  {
   "cell_type": "code",
   "execution_count": 16,
   "metadata": {},
   "outputs": [
    {
     "name": "stdout",
     "output_type": "stream",
     "text": [
      "None\n"
     ]
    }
   ],
   "source": [
    "print(x.grad)"
   ]
  },
  {
   "cell_type": "markdown",
   "metadata": {},
   "source": [
    "To calculate the gradients, you need to run the `.backward` method on a Variable, `z` for example. This will calculate the gradient for `z` with respect to `x`\n",
    "\n",
    "$$\n",
    "\\frac{\\partial z}{\\partial x} = \\frac{\\partial}{\\partial x}\\left[\\frac{1}{n}\\sum_i^n x_i^2\\right] = \\frac{x}{2}\n",
    "$$"
   ]
  },
  {
   "cell_type": "code",
   "execution_count": 17,
   "metadata": {},
   "outputs": [
    {
     "name": "stdout",
     "output_type": "stream",
     "text": [
      "tensor([[-0.8553, -0.0676],\n",
      "        [-0.8498, -0.5120]])\n",
      "tensor([[-0.8553, -0.0676],\n",
      "        [-0.8498, -0.5120]], grad_fn=<DivBackward0>)\n"
     ]
    }
   ],
   "source": [
    "z.backward()\n",
    "print(x.grad)\n",
    "print(x/2)"
   ]
  },
  {
   "cell_type": "markdown",
   "metadata": {},
   "source": [
    "These gradients calculations are particularly useful for neural networks. For training we need the gradients of the cost with respect to the weights. With PyTorch, we run data forward through the network to calculate the loss, then, go backwards to calculate the gradients with respect to the loss. Once we have the gradients we can make a gradient descent step. "
   ]
  },
  {
   "cell_type": "markdown",
   "metadata": {},
   "source": [
    "## Loss and Autograd together\n",
    "\n",
    "When we create a network with PyTorch, all of the parameters are initialized with `requires_grad = True`. This means that when we calculate the loss and call `loss.backward()`, the gradients for the parameters are calculated. These gradients are used to update the weights with gradient descent. Below you can see an example of calculating the gradients using a backwards pass."
   ]
  },
  {
   "cell_type": "code",
   "execution_count": 18,
   "metadata": {},
   "outputs": [],
   "source": [
    "# Build a feed-forward network\n",
    "model = nn.Sequential(nn.Linear(784, 128),\n",
    "                      nn.ReLU(),\n",
    "                      nn.Linear(128, 64),\n",
    "                      nn.ReLU(),\n",
    "                      nn.Linear(64, 10),\n",
    "                      nn.LogSoftmax(dim=1))\n",
    "\n",
    "criterion = nn.NLLLoss()\n",
    "images, labels = next(iter(trainloader))\n",
    "images = images.view(images.shape[0], -1)\n",
    "\n",
    "logits = model(images)\n",
    "loss = criterion(logits, labels)"
   ]
  },
  {
   "cell_type": "code",
   "execution_count": 19,
   "metadata": {},
   "outputs": [
    {
     "name": "stdout",
     "output_type": "stream",
     "text": [
      "Before backward pass: \n",
      " None\n",
      "After backward pass: \n",
      " tensor([[-0.0002, -0.0002, -0.0002,  ..., -0.0002, -0.0002, -0.0002],\n",
      "        [ 0.0004,  0.0004,  0.0004,  ...,  0.0004,  0.0004,  0.0004],\n",
      "        [ 0.0008,  0.0008,  0.0008,  ...,  0.0008,  0.0008,  0.0008],\n",
      "        ...,\n",
      "        [ 0.0000,  0.0000,  0.0000,  ...,  0.0000,  0.0000,  0.0000],\n",
      "        [ 0.0002,  0.0002,  0.0002,  ...,  0.0002,  0.0002,  0.0002],\n",
      "        [ 0.0017,  0.0017,  0.0017,  ...,  0.0017,  0.0017,  0.0017]])\n"
     ]
    }
   ],
   "source": [
    "print('Before backward pass: \\n', model[0].weight.grad)\n",
    "\n",
    "loss.backward()\n",
    "\n",
    "print('After backward pass: \\n', model[0].weight.grad)"
   ]
  },
  {
   "cell_type": "markdown",
   "metadata": {},
   "source": [
    "## Training the network!\n",
    "\n",
    "There's one last piece we need to start training, an optimizer that we'll use to update the weights with the gradients. We get these from PyTorch's [`optim` package](https://pytorch.org/docs/stable/optim.html). For example we can use stochastic gradient descent with `optim.SGD`. You can see how to define an optimizer below."
   ]
  },
  {
   "cell_type": "code",
   "execution_count": 22,
   "metadata": {},
   "outputs": [
    {
     "name": "stdout",
     "output_type": "stream",
     "text": [
      "[Parameter containing:\n",
      "tensor([[-0.0178, -0.0135,  0.0108,  ...,  0.0059,  0.0125, -0.0060],\n",
      "        [ 0.0167, -0.0056, -0.0007,  ..., -0.0038,  0.0023, -0.0021],\n",
      "        [-0.0187, -0.0044, -0.0314,  ...,  0.0175,  0.0152,  0.0238],\n",
      "        ...,\n",
      "        [-0.0088, -0.0286, -0.0230,  ..., -0.0181,  0.0246, -0.0295],\n",
      "        [-0.0030, -0.0028, -0.0339,  ...,  0.0311, -0.0163,  0.0035],\n",
      "        [-0.0043,  0.0284,  0.0116,  ..., -0.0038, -0.0105,  0.0090]],\n",
      "       requires_grad=True), Parameter containing:\n",
      "tensor([ 0.0064,  0.0100,  0.0146,  0.0133, -0.0257,  0.0350,  0.0195, -0.0231,\n",
      "         0.0318,  0.0272,  0.0002,  0.0111, -0.0244, -0.0137, -0.0034,  0.0316,\n",
      "        -0.0233, -0.0192, -0.0052,  0.0181, -0.0009, -0.0014, -0.0245,  0.0156,\n",
      "         0.0021,  0.0270,  0.0206, -0.0145,  0.0350,  0.0327, -0.0019, -0.0323,\n",
      "        -0.0137,  0.0082,  0.0167, -0.0317,  0.0075, -0.0278, -0.0207, -0.0197,\n",
      "        -0.0154, -0.0216, -0.0220, -0.0245, -0.0010, -0.0196,  0.0035, -0.0079,\n",
      "        -0.0277, -0.0069, -0.0151,  0.0355, -0.0205,  0.0171, -0.0039, -0.0072,\n",
      "        -0.0174, -0.0095, -0.0351,  0.0031, -0.0234, -0.0324, -0.0262,  0.0173,\n",
      "        -0.0058, -0.0223, -0.0015,  0.0211, -0.0139, -0.0312,  0.0248,  0.0090,\n",
      "        -0.0048,  0.0297,  0.0050,  0.0112, -0.0174,  0.0354,  0.0306,  0.0301,\n",
      "        -0.0292, -0.0155,  0.0182,  0.0152,  0.0162,  0.0157, -0.0016, -0.0192,\n",
      "        -0.0119,  0.0001,  0.0271, -0.0115, -0.0252,  0.0105, -0.0056, -0.0295,\n",
      "        -0.0340,  0.0256,  0.0284,  0.0203, -0.0251,  0.0088,  0.0276,  0.0058,\n",
      "        -0.0136,  0.0203,  0.0251, -0.0352, -0.0355,  0.0094,  0.0058,  0.0019,\n",
      "         0.0202,  0.0123,  0.0070, -0.0255, -0.0010, -0.0077,  0.0070, -0.0223,\n",
      "         0.0155,  0.0118, -0.0032,  0.0221,  0.0199,  0.0353, -0.0356, -0.0164],\n",
      "       requires_grad=True), Parameter containing:\n",
      "tensor([[-0.0126, -0.0285, -0.0836,  ..., -0.0007, -0.0496, -0.0621],\n",
      "        [-0.0258, -0.0649, -0.0665,  ..., -0.0772,  0.0791,  0.0082],\n",
      "        [-0.0127,  0.0815,  0.0805,  ..., -0.0009,  0.0225,  0.0380],\n",
      "        ...,\n",
      "        [ 0.0178,  0.0127, -0.0415,  ..., -0.0356,  0.0387, -0.0309],\n",
      "        [-0.0630, -0.0559,  0.0468,  ..., -0.0731, -0.0191,  0.0272],\n",
      "        [ 0.0325, -0.0522,  0.0654,  ...,  0.0601, -0.0744, -0.0347]],\n",
      "       requires_grad=True), Parameter containing:\n",
      "tensor([-0.0077, -0.0189,  0.0563,  0.0314, -0.0427,  0.0018, -0.0722,  0.0039,\n",
      "         0.0768,  0.0166,  0.0821, -0.0474,  0.0301, -0.0269,  0.0807, -0.0394,\n",
      "         0.0008, -0.0003, -0.0567,  0.0698, -0.0494,  0.0878, -0.0042, -0.0760,\n",
      "         0.0347, -0.0243,  0.0533, -0.0795,  0.0218,  0.0615, -0.0381, -0.0627,\n",
      "         0.0752, -0.0426,  0.0335, -0.0239, -0.0651,  0.0642, -0.0788, -0.0570,\n",
      "        -0.0035, -0.0414, -0.0672, -0.0513, -0.0495,  0.0417, -0.0640,  0.0273,\n",
      "         0.0823, -0.0120,  0.0283,  0.0716,  0.0188,  0.0409,  0.0475, -0.0385,\n",
      "         0.0663, -0.0815, -0.0781, -0.0098, -0.0587, -0.0311,  0.0629, -0.0714],\n",
      "       requires_grad=True), Parameter containing:\n",
      "tensor([[-0.0643, -0.0423,  0.0249,  0.0835,  0.1120,  0.0676,  0.0661,  0.0419,\n",
      "          0.0872,  0.0754, -0.0633,  0.0795, -0.0855, -0.1167,  0.1094, -0.0083,\n",
      "         -0.0276,  0.0114,  0.0591,  0.0596, -0.1194, -0.1068, -0.0471, -0.0756,\n",
      "         -0.0707,  0.0244, -0.1072,  0.0324,  0.0722, -0.0243, -0.0480,  0.0389,\n",
      "          0.0667, -0.1072, -0.0681, -0.1169, -0.0876, -0.0129,  0.0766,  0.0993,\n",
      "          0.0766,  0.1010, -0.0087,  0.0839, -0.0119, -0.1191,  0.0043, -0.0374,\n",
      "         -0.1196,  0.0575, -0.0544,  0.0374,  0.1051,  0.1206, -0.0490,  0.0218,\n",
      "         -0.0246,  0.0835,  0.1083, -0.0424,  0.1243,  0.1120, -0.1085, -0.0861],\n",
      "        [ 0.0324, -0.0032,  0.0765,  0.0198,  0.0727,  0.1211, -0.0770,  0.0016,\n",
      "         -0.1007,  0.0449, -0.0494, -0.1051,  0.0855, -0.1221,  0.0713, -0.0962,\n",
      "          0.0615,  0.0717, -0.0594, -0.1035, -0.1043, -0.0915,  0.0575, -0.1065,\n",
      "         -0.0248,  0.0487,  0.0239,  0.0687,  0.0333,  0.0899, -0.0808,  0.0965,\n",
      "         -0.0062, -0.0574,  0.0823,  0.0467,  0.0314, -0.0635,  0.0842, -0.0877,\n",
      "         -0.0159, -0.1178,  0.0420,  0.0123,  0.0185,  0.0491,  0.0865,  0.0634,\n",
      "         -0.0118, -0.0058, -0.0333,  0.0414,  0.0457, -0.0224,  0.0512, -0.0641,\n",
      "          0.1223,  0.0349,  0.0379, -0.0267, -0.0305,  0.0711,  0.1032,  0.0228],\n",
      "        [ 0.0591,  0.0529,  0.1131,  0.0751, -0.0594,  0.0561,  0.0836, -0.0151,\n",
      "          0.0827,  0.0826,  0.0988, -0.0118,  0.1203, -0.0505,  0.0754,  0.0102,\n",
      "         -0.0884, -0.0731,  0.0234,  0.0601,  0.1052,  0.0805, -0.0849,  0.0971,\n",
      "         -0.0272, -0.0161, -0.1177, -0.1030,  0.0747,  0.0385,  0.0676, -0.0263,\n",
      "          0.0706, -0.0561,  0.0567, -0.0940, -0.0994,  0.0074,  0.0637,  0.0773,\n",
      "         -0.0695, -0.0109, -0.0700, -0.0372,  0.0909, -0.1058,  0.0392, -0.0978,\n",
      "         -0.0345, -0.1103,  0.0683, -0.0772, -0.1197,  0.0225, -0.1067, -0.0838,\n",
      "         -0.0064, -0.0126, -0.1184,  0.0688, -0.0827,  0.1096,  0.0870,  0.0063],\n",
      "        [-0.1061,  0.0631,  0.0337,  0.0648,  0.0693,  0.1195,  0.0735, -0.1021,\n",
      "          0.0665, -0.0873, -0.0643, -0.0087, -0.0015, -0.1166, -0.1207, -0.0090,\n",
      "         -0.0074, -0.0890,  0.0611, -0.1144,  0.0349, -0.0114, -0.0302, -0.1054,\n",
      "         -0.1123,  0.0295, -0.0130,  0.0752,  0.0488,  0.0959,  0.0240, -0.0382,\n",
      "          0.0101,  0.0893,  0.0891, -0.0327,  0.1148, -0.0070,  0.1078,  0.0527,\n",
      "          0.1127, -0.0758,  0.0091,  0.0648,  0.0659, -0.0954,  0.0160,  0.1215,\n",
      "         -0.1000,  0.0998,  0.0741,  0.0698,  0.0720, -0.0789, -0.1013,  0.0716,\n",
      "         -0.0956, -0.0688,  0.0912,  0.1175, -0.0860, -0.0037,  0.1053, -0.0402],\n",
      "        [-0.1052,  0.0057,  0.0026, -0.0478,  0.0997, -0.0699,  0.0485, -0.0409,\n",
      "         -0.0733, -0.0744, -0.0294,  0.1055,  0.0682,  0.0507,  0.0013,  0.0739,\n",
      "          0.0957,  0.0977,  0.0734,  0.0236, -0.0332,  0.1102,  0.0365,  0.0317,\n",
      "         -0.0464, -0.0364, -0.1024, -0.0596,  0.0704,  0.0805,  0.0737, -0.0178,\n",
      "         -0.0668, -0.0533, -0.0134,  0.0346,  0.0707,  0.0973, -0.1093, -0.0700,\n",
      "          0.0030, -0.1235, -0.0552,  0.0205,  0.0038, -0.0918,  0.0439, -0.1212,\n",
      "         -0.0214, -0.0268, -0.0996, -0.0446,  0.0322,  0.1051,  0.0078, -0.0481,\n",
      "          0.0369, -0.0278, -0.0834,  0.0072,  0.0186,  0.0368, -0.0631,  0.0125],\n",
      "        [ 0.1086, -0.0326, -0.0459,  0.0830,  0.0256,  0.0290,  0.0337, -0.1207,\n",
      "          0.0478,  0.0723,  0.0129,  0.0694,  0.0031, -0.0509,  0.1212,  0.0086,\n",
      "          0.0763,  0.1227,  0.0459, -0.0373, -0.0043,  0.0863,  0.0559, -0.0588,\n",
      "         -0.0502,  0.0098,  0.0844, -0.0056,  0.1218,  0.0434, -0.0783,  0.0022,\n",
      "         -0.1115, -0.0495,  0.0056,  0.0920,  0.0551,  0.0785,  0.0778,  0.0365,\n",
      "          0.0109,  0.0148, -0.1031,  0.0984,  0.1173,  0.0495,  0.1070, -0.0809,\n",
      "         -0.0382, -0.0369, -0.1219, -0.0684,  0.0597, -0.0062,  0.0279, -0.0885,\n",
      "         -0.0750,  0.0490, -0.0846, -0.1085, -0.0108,  0.0175, -0.0371, -0.0826],\n",
      "        [-0.0902, -0.0441, -0.0504,  0.0906,  0.0978,  0.0132, -0.0469, -0.1119,\n",
      "         -0.0220, -0.0534,  0.1154, -0.1090,  0.0576,  0.0235, -0.0814,  0.0441,\n",
      "         -0.0974, -0.0235,  0.0265, -0.0999, -0.0756, -0.0113,  0.0412, -0.0821,\n",
      "          0.0366, -0.0865,  0.0212, -0.0693,  0.0314, -0.0403, -0.0854, -0.1219,\n",
      "         -0.0703, -0.0647,  0.0226, -0.1024,  0.0821, -0.0120, -0.0675,  0.1047,\n",
      "          0.0616, -0.0248, -0.0014, -0.0602,  0.0111, -0.0944,  0.1101, -0.0076,\n",
      "         -0.1237, -0.0936, -0.1170,  0.0132, -0.0652, -0.0823, -0.0062,  0.0220,\n",
      "         -0.1241,  0.0841, -0.0936, -0.0636,  0.1080, -0.0207, -0.0176,  0.0138],\n",
      "        [ 0.0737, -0.0176, -0.0777,  0.0996, -0.1116, -0.0225, -0.0845, -0.1210,\n",
      "          0.0121,  0.0824, -0.0601,  0.0521,  0.0110,  0.1202,  0.1165, -0.0080,\n",
      "          0.0535, -0.1126,  0.0158,  0.0913, -0.0050,  0.0541, -0.0583,  0.0812,\n",
      "          0.0618,  0.0449,  0.0632, -0.0148,  0.0430, -0.0815, -0.0620, -0.0119,\n",
      "         -0.1091,  0.0309,  0.0560, -0.0412, -0.1033,  0.0427,  0.0878, -0.0955,\n",
      "          0.1022,  0.1182,  0.0292,  0.0947,  0.0488,  0.0338, -0.0589, -0.1201,\n",
      "         -0.0397, -0.0471,  0.0760, -0.0133, -0.1147,  0.0655,  0.1195, -0.1117,\n",
      "         -0.0174, -0.0737,  0.0168, -0.0006,  0.0715,  0.1043,  0.0420,  0.0776],\n",
      "        [-0.0796, -0.1247, -0.0095,  0.0390,  0.0869,  0.0911, -0.0406,  0.0648,\n",
      "          0.1161, -0.0470,  0.0592, -0.0266, -0.0477, -0.0257,  0.0044, -0.0529,\n",
      "         -0.0620, -0.0650, -0.1175,  0.0097, -0.0300,  0.0960, -0.0445,  0.0798,\n",
      "         -0.0963,  0.0583,  0.1021,  0.0820,  0.0161,  0.1207,  0.1213,  0.0244,\n",
      "         -0.0227,  0.1246, -0.0093,  0.0431,  0.0221,  0.0646, -0.0719, -0.0827,\n",
      "         -0.0609,  0.0645,  0.1085, -0.0446,  0.1016, -0.0764, -0.1032, -0.0978,\n",
      "         -0.1138,  0.0656,  0.0260,  0.0315, -0.0409,  0.1149,  0.1041,  0.1121,\n",
      "          0.0409, -0.0080,  0.0796, -0.0716,  0.0063, -0.0139,  0.0497, -0.0515],\n",
      "        [-0.0449,  0.0650, -0.0987,  0.0402,  0.0254, -0.0103,  0.0029, -0.0083,\n",
      "         -0.0334, -0.0295,  0.1234,  0.0759,  0.0367,  0.0516, -0.1018,  0.0101,\n",
      "          0.0672, -0.0591, -0.0370,  0.0359,  0.0359, -0.0302,  0.0047,  0.0338,\n",
      "         -0.0141, -0.0677,  0.0309,  0.1193,  0.0333, -0.0678,  0.0438,  0.0103,\n",
      "          0.0235,  0.0011, -0.0387, -0.0720,  0.0312,  0.0721,  0.0002,  0.0456,\n",
      "          0.0263, -0.0498,  0.0180, -0.0507,  0.0739, -0.1062, -0.0786,  0.0727,\n",
      "         -0.0811, -0.0315, -0.1180, -0.1231,  0.0411, -0.1169, -0.1108,  0.0402,\n",
      "         -0.0259,  0.0362, -0.1066,  0.1188,  0.0452, -0.0943,  0.0490, -0.0541]],\n",
      "       requires_grad=True), Parameter containing:\n",
      "tensor([ 0.0418,  0.0679, -0.0586,  0.1147,  0.0802,  0.1051, -0.0669,  0.1030,\n",
      "        -0.0912,  0.0900], requires_grad=True)]\n"
     ]
    }
   ],
   "source": [
    "from torch import optim\n",
    "\n",
    "# Optimizers require the parameters to optimize and a learning rate\n",
    "optimizer = optim.SGD(model.parameters(), lr=0.01)\n",
    "print([v for v in model.parameters()])"
   ]
  },
  {
   "cell_type": "markdown",
   "metadata": {},
   "source": [
    "Now we know how to use all the individual parts so it's time to see how they work together. Let's consider just one learning step before looping through all the data. The general process with PyTorch:\n",
    "\n",
    "* Make a forward pass through the network \n",
    "* Use the network output to calculate the loss\n",
    "* Perform a backward pass through the network with `loss.backward()` to calculate the gradients\n",
    "* Take a step with the optimizer to update the weights\n",
    "\n",
    "Below I'll go through one training step and print out the weights and gradients so you can see how it changes. Note that I have a line of code `optimizer.zero_grad()`. When you do multiple backwards passes with the same parameters, the gradients are accumulated. This means that you need to zero the gradients on each training pass or you'll retain gradients from previous training batches."
   ]
  },
  {
   "cell_type": "code",
   "execution_count": 23,
   "metadata": {},
   "outputs": [
    {
     "name": "stdout",
     "output_type": "stream",
     "text": [
      "Initial weights -  Parameter containing:\n",
      "tensor([[-0.0178, -0.0135,  0.0108,  ...,  0.0059,  0.0125, -0.0060],\n",
      "        [ 0.0167, -0.0056, -0.0007,  ..., -0.0038,  0.0023, -0.0021],\n",
      "        [-0.0187, -0.0044, -0.0314,  ...,  0.0175,  0.0152,  0.0238],\n",
      "        ...,\n",
      "        [-0.0088, -0.0286, -0.0230,  ..., -0.0181,  0.0246, -0.0295],\n",
      "        [-0.0030, -0.0028, -0.0339,  ...,  0.0311, -0.0163,  0.0035],\n",
      "        [-0.0043,  0.0284,  0.0116,  ..., -0.0038, -0.0105,  0.0090]],\n",
      "       requires_grad=True)\n",
      "Gradient - tensor([[-9.4062e-04, -9.4062e-04, -9.4062e-04,  ..., -9.4062e-04,\n",
      "         -9.4062e-04, -9.4062e-04],\n",
      "        [ 4.9230e-04,  4.9230e-04,  4.9230e-04,  ...,  4.9230e-04,\n",
      "          4.9230e-04,  4.9230e-04],\n",
      "        [ 4.3857e-04,  4.3857e-04,  4.3857e-04,  ...,  4.3857e-04,\n",
      "          4.3857e-04,  4.3857e-04],\n",
      "        ...,\n",
      "        [ 0.0000e+00,  0.0000e+00,  0.0000e+00,  ...,  0.0000e+00,\n",
      "          0.0000e+00,  0.0000e+00],\n",
      "        [-4.8053e-05, -4.8053e-05, -4.8053e-05,  ..., -4.8053e-05,\n",
      "         -4.8053e-05, -4.8053e-05],\n",
      "        [ 8.9259e-04,  8.9259e-04,  8.9259e-04,  ...,  8.9259e-04,\n",
      "          8.9259e-04,  8.9259e-04]])\n"
     ]
    }
   ],
   "source": [
    "print('Initial weights - ', model[0].weight)\n",
    "\n",
    "images, labels = next(iter(trainloader))\n",
    "images.resize_(64, 784)\n",
    "\n",
    "# Clear the gradients, do this because gradients are accumulated\n",
    "optimizer.zero_grad()\n",
    "\n",
    "# Forward pass, then backward pass, then update weights\n",
    "output = model(images)\n",
    "loss = criterion(output, labels)\n",
    "loss.backward()\n",
    "print('Gradient -', model[0].weight.grad)"
   ]
  },
  {
   "cell_type": "code",
   "execution_count": 24,
   "metadata": {},
   "outputs": [
    {
     "name": "stdout",
     "output_type": "stream",
     "text": [
      "Updated weights -  Parameter containing:\n",
      "tensor([[-0.0178, -0.0135,  0.0108,  ...,  0.0059,  0.0125, -0.0060],\n",
      "        [ 0.0167, -0.0056, -0.0007,  ..., -0.0038,  0.0023, -0.0021],\n",
      "        [-0.0187, -0.0044, -0.0314,  ...,  0.0175,  0.0151,  0.0238],\n",
      "        ...,\n",
      "        [-0.0088, -0.0286, -0.0230,  ..., -0.0181,  0.0246, -0.0295],\n",
      "        [-0.0030, -0.0028, -0.0339,  ...,  0.0311, -0.0163,  0.0035],\n",
      "        [-0.0043,  0.0284,  0.0116,  ..., -0.0038, -0.0105,  0.0090]],\n",
      "       requires_grad=True)\n"
     ]
    }
   ],
   "source": [
    "# Take an update step and few the new weights\n",
    "optimizer.step()\n",
    "print('Updated weights - ', model[0].weight)"
   ]
  },
  {
   "cell_type": "markdown",
   "metadata": {},
   "source": [
    "### Training for real\n",
    "\n",
    "Now we'll put this algorithm into a loop so we can go through all the images. Some nomenclature, one pass through the entire dataset is called an *epoch*. So here we're going to loop through `trainloader` to get our training batches. For each batch, we'll doing a training pass where we calculate the loss, do a backwards pass, and update the weights.\n",
    "\n",
    ">**Exercise:** Implement the training pass for our network. If you implemented it correctly, you should see the training loss drop with each epoch."
   ]
  },
  {
   "cell_type": "code",
   "execution_count": 30,
   "metadata": {},
   "outputs": [
    {
     "name": "stdout",
     "output_type": "stream",
     "text": [
      "Training loss: 1.835268054244869\n",
      "Training loss: 0.7669136045393405\n",
      "Training loss: 0.49728912162755345\n",
      "Training loss: 0.41672188362904955\n",
      "Training loss: 0.377195933067214\n"
     ]
    }
   ],
   "source": [
    "## Your solution here\n",
    "\n",
    "model = nn.Sequential(nn.Linear(784, 128),\n",
    "                      nn.ReLU(),\n",
    "                      nn.Linear(128, 64),\n",
    "                      nn.ReLU(),\n",
    "                      nn.Linear(64, 10),\n",
    "                      nn.LogSoftmax(dim=1))\n",
    "\n",
    "criterion = nn.NLLLoss()\n",
    "optimizer = optim.SGD(model.parameters(), lr=0.003)\n",
    "\n",
    "epochs = 5\n",
    "for e in range(epochs):\n",
    "    running_loss = 0\n",
    "    for images, labels in trainloader:\n",
    "        # Flatten MNIST images into a 784 long vector\n",
    "        images = images.view(images.shape[0], -1)\n",
    "    \n",
    "        # Training pass\n",
    "        optimizer.zero_grad()\n",
    "        output = model(images)\n",
    "        loss = criterion(output, labels)\n",
    "        loss.backward()\n",
    "        \n",
    "        running_loss += loss.item()\n",
    "        optimizer.step()\n",
    "    else:\n",
    "        print(f\"Training loss: {running_loss/len(trainloader)}\")"
   ]
  },
  {
   "cell_type": "markdown",
   "metadata": {},
   "source": [
    "With the network trained, we can check out it's predictions."
   ]
  },
  {
   "cell_type": "code",
   "execution_count": 31,
   "metadata": {},
   "outputs": [
    {
     "data": {
      "image/png": "[encoded data removed]",
      "text/plain": [
       "<Figure size 432x648 with 2 Axes>"
      ]
     },
     "metadata": {
      "needs_background": "light"
     },
     "output_type": "display_data"
    }
   ],
   "source": [
    "%matplotlib inline\n",
    "import helper\n",
    "\n",
    "images, labels = next(iter(trainloader))\n",
    "\n",
    "img = images[0].view(1, 784)\n",
    "# Turn off gradients to speed up this part\n",
    "with torch.no_grad():\n",
    "    logps = model(img)\n",
    "\n",
    "# Output of the network are log-probabilities, need to take exponential for probabilities\n",
    "ps = torch.exp(logps)\n",
    "helper.view_classify(img.view(1, 28, 28), ps)"
   ]
  },
  {
   "cell_type": "markdown",
   "metadata": {},
   "source": [
    "Now our network is brilliant. It can accurately predict the digits in our images. Next up you'll write the code for training a neural network on a more complex dataset."
   ]
  }
 ],
 "metadata": {
  "kernelspec": {
   "display_name": "Python 3",
   "language": "python",
   "name": "python3"
  },
  "language_info": {
   "codemirror_mode": {
    "name": "ipython",
    "version": 3
   },
   "file_extension": ".py",
   "mimetype": "text/x-python",
   "name": "python",
   "nbconvert_exporter": "python",
   "pygments_lexer": "ipython3",
   "version": "3.7.2"
  }
 },
 "nbformat": 4,
 "nbformat_minor": 2
}
