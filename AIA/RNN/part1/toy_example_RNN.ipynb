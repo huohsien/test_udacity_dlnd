{
 "cells": [
  {
   "cell_type": "markdown",
   "metadata": {},
   "source": [
    "## 蔡炎龍老師的RNN簡單範例實作"
   ]
  },
  {
   "cell_type": "code",
   "execution_count": 1,
   "metadata": {},
   "outputs": [],
   "source": [
    "import numpy as np"
   ]
  },
  {
   "cell_type": "code",
   "execution_count": 2,
   "metadata": {},
   "outputs": [],
   "source": [
    "def sigmoid(x):\n",
    "    return 1/(1+np.exp(-x))"
   ]
  },
  {
   "cell_type": "code",
   "execution_count": 3,
   "metadata": {},
   "outputs": [],
   "source": [
    "def softmax(x):\n",
    "    e_x = np.exp(x - np.max(x))\n",
    "    return e_x / e_x.sum()"
   ]
  },
  {
   "cell_type": "code",
   "execution_count": 4,
   "metadata": {},
   "outputs": [],
   "source": [
    "X1 = np.array([[1], [0], [0]])\n",
    "X2 = np.array([[0], [1], [0]])\n",
    "init_state = np.array([[0], [0]])"
   ]
  },
  {
   "cell_type": "code",
   "execution_count": 5,
   "metadata": {},
   "outputs": [],
   "source": [
    "def RNN(ht_1, input_data):\n",
    "    #input layer\n",
    "    Wx = np.array([[1, -1], [1, -1], [1, -1]])\n",
    "    Wh = np.array([[1, 0.2], [0.2, 1]])\n",
    "    b = np.array([[0.3], [0.7]])\n",
    "    \n",
    "    hidden_state = sigmoid(np.matmul(Wh.transpose(), ht_1) + np.matmul(Wx.transpose(), input_data) + b)\n",
    "    \n",
    "    #output layer\n",
    "    Wout = np.array([[0.3, 1, 0.3], [0.2, -1, 1]])\n",
    "    bout = np.array([[0.5], [0.5], [0.5]])\n",
    "    \n",
    "    output =  softmax(np.matmul(Wout.transpose(), hidden_state) + bout)\n",
    "    \n",
    "    return hidden_state, output"
   ]
  },
  {
   "cell_type": "code",
   "execution_count": 6,
   "metadata": {},
   "outputs": [
    {
     "name": "stdout",
     "output_type": "stream",
     "text": [
      "t1_hidden_state \n",
      " [[0.78583498]\n",
      " [0.42555748]]\n",
      "t1_output \n",
      " [[0.29021031]\n",
      " [0.30187752]\n",
      " [0.40791216]]\n"
     ]
    }
   ],
   "source": [
    "t1_hidden_state, t1_output = RNN(init_state, X1)\n",
    "print('t1_hidden_state \\n', t1_hidden_state)\n",
    "print('t1_output \\n', t1_output)"
   ]
  },
  {
   "cell_type": "code",
   "execution_count": 7,
   "metadata": {},
   "outputs": [
    {
     "name": "stdout",
     "output_type": "stream",
     "text": [
      "t2_hidden_state \n",
      " [[0.89760999]\n",
      " [0.57021404]]\n",
      "t2_output \n",
      " [[0.28379857]\n",
      " [0.26836147]\n",
      " [0.44783996]]\n"
     ]
    }
   ],
   "source": [
    "t2_hidden_state, t2_output = RNN(t1_hidden_state, X2)\n",
    "print('t2_hidden_state \\n', t2_hidden_state)\n",
    "print('t2_output \\n', t2_output)"
   ]
  },
  {
   "cell_type": "code",
   "execution_count": null,
   "metadata": {},
   "outputs": [],
   "source": []
  }
 ],
 "metadata": {
  "kernelspec": {
   "display_name": "Python 3",
   "language": "python",
   "name": "python3"
  },
  "language_info": {
   "codemirror_mode": {
    "name": "ipython",
    "version": 3
   },
   "file_extension": ".py",
   "mimetype": "text/x-python",
   "name": "python",
   "nbconvert_exporter": "python",
   "pygments_lexer": "ipython3",
   "version": "3.6.6"
  }
 },
 "nbformat": 4,
 "nbformat_minor": 2
}
