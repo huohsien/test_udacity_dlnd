{
 "cells": [
  {
   "cell_type": "markdown",
   "metadata": {},
   "source": [
    "# RNN model with MNIST dataset"
   ]
  },
  {
   "cell_type": "markdown",
   "metadata": {},
   "source": [
    "## 1. import package"
   ]
  },
  {
   "cell_type": "code",
   "execution_count": 1,
   "metadata": {},
   "outputs": [
    {
     "name": "stderr",
     "output_type": "stream",
     "text": [
      "/opt/conda/lib/python3.6/site-packages/h5py/__init__.py:36: FutureWarning: Conversion of the second argument of issubdtype from `float` to `np.floating` is deprecated. In future, it will be treated as `np.float64 == np.dtype(float).type`.\n",
      "  from ._conv import register_converters as _register_converters\n"
     ]
    }
   ],
   "source": [
    "import numpy as np\n",
    "from pprint import pprint\n",
    "import matplotlib.pyplot as plt\n",
    "from sklearn.utils import shuffle \n",
    "import tensorflow as tf"
   ]
  },
  {
   "cell_type": "markdown",
   "metadata": {},
   "source": [
    "## 2. Set hyperparameters"
   ]
  },
  {
   "cell_type": "code",
   "execution_count": 2,
   "metadata": {},
   "outputs": [],
   "source": [
    "learning_rate = 0.001\n",
    "batch_size = 128\n",
    "epochs = 10"
   ]
  },
  {
   "cell_type": "markdown",
   "metadata": {},
   "source": [
    "## 3. Load data and preprocess"
   ]
  },
  {
   "cell_type": "code",
   "execution_count": 3,
   "metadata": {},
   "outputs": [
    {
     "name": "stdout",
     "output_type": "stream",
     "text": [
      "Data shape:  (28, 28)\n",
      "Label:  5\n"
     ]
    },
    {
     "data": {
      "image/png": "[encoded data removed]",
      "text/plain": [
       "<Figure size 432x432 with 1 Axes>"
      ]
     },
     "metadata": {
      "needs_background": "light"
     },
     "output_type": "display_data"
    }
   ],
   "source": [
    "(X_train, y_train), (X_test, y_test) = tf.keras.datasets.mnist.load_data()\n",
    "\n",
    "print('Data shape: ', X_train[0].shape)\n",
    "print('Label: ', y_train[0])\n",
    "plt.figure(figsize=(6, 6))\n",
    "plt.imshow(X_train[0], cmap='binary')\n",
    "plt.show()"
   ]
  },
  {
   "cell_type": "code",
   "execution_count": 4,
   "metadata": {},
   "outputs": [],
   "source": [
    "X_train = X_train / 255.\n",
    "X_test = X_test / 255.\n",
    "y_train = np.eye(10)[y_train[:]]\n",
    "y_test = np.eye(10)[y_test[:]]"
   ]
  },
  {
   "cell_type": "code",
   "execution_count": 5,
   "metadata": {},
   "outputs": [],
   "source": [
    "def batch_gen(X, y, batch_size):\n",
    "    X, y = shuffle(X, y)\n",
    "    batch_index = 0\n",
    "    \n",
    "    while batch_index < len(X):\n",
    "        batch_X = X[batch_index : batch_index+batch_size]\n",
    "        batch_y = y[batch_index : batch_index+batch_size]\n",
    "        batch_index += batch_size\n",
    "        yield batch_X, batch_y"
   ]
  },
  {
   "cell_type": "markdown",
   "metadata": {},
   "source": [
    "## 4. Build the graph"
   ]
  },
  {
   "cell_type": "code",
   "execution_count": 6,
   "metadata": {},
   "outputs": [],
   "source": [
    "def RNN_layer(inputs, units):\n",
    "    BasicRNN_cell = tf.nn.rnn_cell.BasicRNNCell(num_units=units)\n",
    "    init_state = BasicRNN_cell.zero_state(tf.shape(inputs)[0], dtype=tf.float32) # shape = (batch, units)\n",
    "#     init_state = tf.zeros([tf.shape(inputs)[0], units])\n",
    "    outputs, states = tf.nn.dynamic_rnn(BasicRNN_cell, inputs, initial_state=init_state)\n",
    "    \n",
    "    return outputs"
   ]
  },
  {
   "cell_type": "code",
   "execution_count": 7,
   "metadata": {},
   "outputs": [],
   "source": [
    "tf.reset_default_graph()\n",
    "\n",
    "with tf.name_scope(\"inputs\"):\n",
    "    input_data = tf.placeholder(dtype=tf.float32, shape=[None, 28, 28], name='input_data')\n",
    "    y_label = tf.placeholder(dtype=tf.float32, shape=[None, 10], name='label')\n",
    "\n",
    "with tf.variable_scope(\"RNN_layer\"):\n",
    "    outputs = RNN_layer(input_data, 32)   \n",
    "\n",
    "with tf.variable_scope(\"output_layer\"):\n",
    "    RNN_last_outputs = outputs[:,-1,:]  # outputs shape = (batch, timestep, feature)\n",
    "    prediction = tf.layers.dense(inputs=RNN_last_outputs, units=10)\n",
    "\n",
    "with tf.name_scope(\"loss\"):\n",
    "    loss = tf.reduce_mean(tf.nn.softmax_cross_entropy_with_logits_v2(logits=prediction,labels=y_label))\n",
    "\n",
    "with tf.name_scope(\"optimizer\"):\n",
    "    opt = tf.train.AdamOptimizer(learning_rate=learning_rate).minimize(loss)\n",
    "\n",
    "with tf.name_scope(\"accuracy\"):\n",
    "    correct_prediction = tf.equal(tf.argmax(prediction, 1), tf.argmax(y_label, 1))\n",
    "    accuracy = tf.reduce_mean(tf.cast(correct_prediction, tf.float32))    \n",
    "\n",
    "init = tf.global_variables_initializer()"
   ]
  },
  {
   "cell_type": "code",
   "execution_count": 8,
   "metadata": {},
   "outputs": [
    {
     "data": {
      "text/plain": [
       "<tf.Tensor 'RNN_layer/rnn/transpose_1:0' shape=(?, 28, 32) dtype=float32>"
      ]
     },
     "execution_count": 8,
     "metadata": {},
     "output_type": "execute_result"
    }
   ],
   "source": [
    "outputs"
   ]
  },
  {
   "cell_type": "code",
   "execution_count": 9,
   "metadata": {},
   "outputs": [
    {
     "data": {
      "text/plain": [
       "<tf.Tensor 'output_layer/strided_slice:0' shape=(?, 32) dtype=float32>"
      ]
     },
     "execution_count": 9,
     "metadata": {},
     "output_type": "execute_result"
    }
   ],
   "source": [
    "RNN_last_outputs"
   ]
  },
  {
   "cell_type": "code",
   "execution_count": 10,
   "metadata": {},
   "outputs": [
    {
     "data": {
      "text/plain": [
       "[<tf.Variable 'RNN_layer/rnn/basic_rnn_cell/kernel:0' shape=(60, 32) dtype=float32_ref>,\n",
       " <tf.Variable 'RNN_layer/rnn/basic_rnn_cell/bias:0' shape=(32,) dtype=float32_ref>,\n",
       " <tf.Variable 'output_layer/dense/kernel:0' shape=(32, 10) dtype=float32_ref>,\n",
       " <tf.Variable 'output_layer/dense/bias:0' shape=(10,) dtype=float32_ref>,\n",
       " <tf.Variable 'optimizer/beta1_power:0' shape=() dtype=float32_ref>,\n",
       " <tf.Variable 'optimizer/beta2_power:0' shape=() dtype=float32_ref>,\n",
       " <tf.Variable 'RNN_layer/rnn/basic_rnn_cell/kernel/Adam:0' shape=(60, 32) dtype=float32_ref>,\n",
       " <tf.Variable 'RNN_layer/rnn/basic_rnn_cell/kernel/Adam_1:0' shape=(60, 32) dtype=float32_ref>,\n",
       " <tf.Variable 'RNN_layer/rnn/basic_rnn_cell/bias/Adam:0' shape=(32,) dtype=float32_ref>,\n",
       " <tf.Variable 'RNN_layer/rnn/basic_rnn_cell/bias/Adam_1:0' shape=(32,) dtype=float32_ref>,\n",
       " <tf.Variable 'output_layer/dense/kernel/Adam:0' shape=(32, 10) dtype=float32_ref>,\n",
       " <tf.Variable 'output_layer/dense/kernel/Adam_1:0' shape=(32, 10) dtype=float32_ref>,\n",
       " <tf.Variable 'output_layer/dense/bias/Adam:0' shape=(10,) dtype=float32_ref>,\n",
       " <tf.Variable 'output_layer/dense/bias/Adam_1:0' shape=(10,) dtype=float32_ref>]"
      ]
     },
     "execution_count": 10,
     "metadata": {},
     "output_type": "execute_result"
    }
   ],
   "source": [
    "tf.global_variables()"
   ]
  },
  {
   "cell_type": "code",
   "execution_count": null,
   "metadata": {},
   "outputs": [],
   "source": [
    "# with tf.keras\n",
    "\n",
    "tf.reset_default_graph()\n",
    "\n",
    "with tf.name_scope(\"inputs\"):\n",
    "    input_data = tf.placeholder(dtype=tf.float32, shape=[None, 28, 28], name='input_data')\n",
    "    y_label = tf.placeholder(dtype=tf.float32, shape=[None, 10], name='label')\n",
    "\n",
    "with tf.variable_scope(\"RNN_layer\"):\n",
    "    rnn_out = tf.keras.layers.SimpleRNN(units=32)(input_data)\n",
    "\n",
    "with tf.variable_scope(\"output_layer\"):\n",
    "    prediction = tf.layers.dense(inputs=rnn_out, units=10)\n",
    "\n",
    "with tf.name_scope(\"loss\"):\n",
    "    loss = tf.reduce_mean(tf.nn.softmax_cross_entropy_with_logits_v2(logits=prediction,labels=y_label))\n",
    "\n",
    "with tf.name_scope(\"optimizer\"):\n",
    "    opt = tf.train.AdamOptimizer(learning_rate=learning_rate).minimize(loss)\n",
    "\n",
    "with tf.name_scope(\"accuracy\"):\n",
    "    correct_prediction = tf.equal(tf.argmax(prediction, 1), tf.argmax(y_label, 1))\n",
    "    accuracy = tf.reduce_mean(tf.cast(correct_prediction, tf.float32))    \n",
    "\n",
    "init = tf.global_variables_initializer()"
   ]
  },
  {
   "cell_type": "markdown",
   "metadata": {},
   "source": [
    "## 5. Train the model"
   ]
  },
  {
   "cell_type": "code",
   "execution_count": 11,
   "metadata": {},
   "outputs": [],
   "source": [
    "sess = tf.Session()\n",
    "sess.run(init)"
   ]
  },
  {
   "cell_type": "code",
   "execution_count": 12,
   "metadata": {},
   "outputs": [
    {
     "name": "stdout",
     "output_type": "stream",
     "text": [
      "Epoch  0\n",
      "Accuracy  0.5455812      Loss  1.3097558\n",
      "__________________\n",
      "Epoch  1\n",
      "Accuracy  0.7389837      Loss  0.75747633\n",
      "__________________\n",
      "Epoch  2\n",
      "Accuracy  0.81153935      Loss  0.58429193\n",
      "__________________\n",
      "Epoch  3\n",
      "Accuracy  0.85716504      Loss  0.46653154\n",
      "__________________\n",
      "Epoch  4\n",
      "Accuracy  0.8844283      Loss  0.38438472\n",
      "__________________\n",
      "Epoch  5\n",
      "Accuracy  0.89844304      Loss  0.33981544\n",
      "__________________\n",
      "Epoch  6\n",
      "Accuracy  0.9088708      Loss  0.30613613\n",
      "__________________\n",
      "Epoch  7\n",
      "Accuracy  0.9172941      Loss  0.28063262\n",
      "__________________\n",
      "Epoch  8\n",
      "Accuracy  0.9215363      Loss  0.26711744\n",
      "__________________\n",
      "Epoch  9\n",
      "Accuracy  0.92621714      Loss  0.25154164\n",
      "__________________\n"
     ]
    }
   ],
   "source": [
    "for epoch_index in range(epochs):\n",
    "    loss_ls, acc_ls = [], []\n",
    "    get_batch = batch_gen(X_train, y_train, batch_size)\n",
    "    \n",
    "    for batch_X, batch_y in get_batch:\n",
    "        _,  batch_acc, batch_loss = sess.run([opt, accuracy, loss], feed_dict={input_data: batch_X, y_label:batch_y})\n",
    "        loss_ls.append(batch_loss)\n",
    "        acc_ls.append(batch_acc)\n",
    "\n",
    "    print(\"Epoch \", epoch_index)\n",
    "    print(\"Accuracy \", np.mean(acc_ls), \"     Loss \", np.mean(loss_ls))\n",
    "    print(\"__________________\")    "
   ]
  },
  {
   "cell_type": "code",
   "execution_count": 13,
   "metadata": {},
   "outputs": [
    {
     "name": "stdout",
     "output_type": "stream",
     "text": [
      "Test Accuracy: 0.9352\n"
     ]
    }
   ],
   "source": [
    "print(\"Test Accuracy:\", sess.run(accuracy, feed_dict={input_data: X_test, y_label: y_test}))        "
   ]
  },
  {
   "cell_type": "code",
   "execution_count": 14,
   "metadata": {},
   "outputs": [],
   "source": [
    "sess.close()"
   ]
  },
  {
   "cell_type": "markdown",
   "metadata": {},
   "source": [
    "## Practice 1\n",
    "1. 把RNN cell換成LSTM觀察Accuracy是否會上升? (hint: tf.nn.rnn_cell.BasicLSTMCell)\n",
    "2. 把RNN cell換成GRU觀察Accuracy是否會上升? (hint: tf.nn.rnn_cell.GRUCell)\n"
   ]
  },
  {
   "cell_type": "markdown",
   "metadata": {},
   "source": [
    "## Practice 2\n",
    "把手寫數字兩張平行輸入到model預測，輸入資料變成time_step = 28, input_data_dimension = 56"
   ]
  },
  {
   "cell_type": "code",
   "execution_count": 15,
   "metadata": {},
   "outputs": [
    {
     "data": {
      "image/png": "[encoded data removed]",
      "text/plain": [
       "<Figure size 1440x720 with 1 Axes>"
      ]
     },
     "metadata": {
      "needs_background": "light"
     },
     "output_type": "display_data"
    }
   ],
   "source": [
    "#show training data\n",
    "plt.figure(figsize=(20,10))\n",
    "img1 = X_train[0]\n",
    "img2 = X_train[1]\n",
    "img = np.concatenate((img1,img2),axis=1)  \n",
    "plt.imshow(img, cmap='binary')\n",
    "plt.show()"
   ]
  },
  {
   "cell_type": "code",
   "execution_count": null,
   "metadata": {},
   "outputs": [],
   "source": []
  }
 ],
 "metadata": {
  "kernelspec": {
   "display_name": "Python 3",
   "language": "python",
   "name": "python3"
  },
  "language_info": {
   "codemirror_mode": {
    "name": "ipython",
    "version": 3
   },
   "file_extension": ".py",
   "mimetype": "text/x-python",
   "name": "python",
   "nbconvert_exporter": "python",
   "pygments_lexer": "ipython3",
   "version": "3.6.6"
  }
 },
 "nbformat": 4,
 "nbformat_minor": 2
}
