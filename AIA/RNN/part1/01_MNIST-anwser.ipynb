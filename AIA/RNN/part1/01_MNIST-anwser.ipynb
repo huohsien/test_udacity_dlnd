{
 "cells": [
  {
   "cell_type": "markdown",
   "metadata": {},
   "source": [
    "# RNN model with MNIST dataset"
   ]
  },
  {
   "cell_type": "markdown",
   "metadata": {},
   "source": [
    "## 1. import package"
   ]
  },
  {
   "cell_type": "code",
   "execution_count": 1,
   "metadata": {},
   "outputs": [
    {
     "name": "stderr",
     "output_type": "stream",
     "text": [
      "/opt/conda/lib/python3.6/site-packages/h5py/__init__.py:36: FutureWarning: Conversion of the second argument of issubdtype from `float` to `np.floating` is deprecated. In future, it will be treated as `np.float64 == np.dtype(float).type`.\n",
      "  from ._conv import register_converters as _register_converters\n"
     ]
    }
   ],
   "source": [
    "import numpy as np\n",
    "from pprint import pprint\n",
    "import matplotlib.pyplot as plt\n",
    "from sklearn.utils import shuffle \n",
    "import tensorflow as tf"
   ]
  },
  {
   "cell_type": "markdown",
   "metadata": {},
   "source": [
    "## 2. Set hyperparameters"
   ]
  },
  {
   "cell_type": "code",
   "execution_count": 2,
   "metadata": {},
   "outputs": [],
   "source": [
    "learning_rate = 0.001\n",
    "batch_size = 128\n",
    "epochs = 50"
   ]
  },
  {
   "cell_type": "markdown",
   "metadata": {},
   "source": [
    "## 3. Load data and preprocess"
   ]
  },
  {
   "cell_type": "code",
   "execution_count": 3,
   "metadata": {},
   "outputs": [
    {
     "data": {
      "image/png": "[encoded data removed]",
      "text/plain": [
       "<Figure size 720x360 with 1 Axes>"
      ]
     },
     "metadata": {
      "needs_background": "light"
     },
     "output_type": "display_data"
    }
   ],
   "source": [
    "(X_train, y_train), (X_test, y_test) = tf.keras.datasets.mnist.load_data()\n",
    "\n",
    "plt.figure(figsize=(10,5))\n",
    "img1 = X_train[0]\n",
    "img2 = X_train[1]\n",
    "img = np.concatenate((img1,img2),axis=1)  \n",
    "plt.imshow(img, cmap='binary')\n",
    "plt.show()"
   ]
  },
  {
   "cell_type": "code",
   "execution_count": 4,
   "metadata": {},
   "outputs": [],
   "source": [
    "X_train = X_train / 255.\n",
    "X_test = X_test / 255.\n",
    "y_train = np.eye(10)[y_train[:]]\n",
    "y_test = np.eye(10)[y_test[:]]"
   ]
  },
  {
   "cell_type": "code",
   "execution_count": 5,
   "metadata": {},
   "outputs": [],
   "source": [
    "def batch_gen(X, y, batch_size):\n",
    "    X1, y1 = shuffle(X, y)\n",
    "    X2, y2 = shuffle(X, y)  \n",
    "    batch_index = 0\n",
    "    while(batch_index < len(X)):\n",
    "        batch_X1 = X1[batch_index : batch_index+batch_size]\n",
    "        batch_X2 = X2[batch_index:batch_index+batch_size]\n",
    "        batch_X = np.concatenate((batch_X1, batch_X2), axis=2) \n",
    "        \n",
    "        batch_y1 = y1[batch_index : batch_index+batch_size]\n",
    "        batch_y2 = y2[batch_index : batch_index+batch_size]\n",
    "        batch_index += batch_size\n",
    "        yield batch_X, batch_y1, batch_y2"
   ]
  },
  {
   "cell_type": "markdown",
   "metadata": {},
   "source": [
    "## 4. Build the graph"
   ]
  },
  {
   "cell_type": "code",
   "execution_count": 6,
   "metadata": {},
   "outputs": [],
   "source": [
    "def RNN_layer(inputs, units):\n",
    "    BasicRNN_cell = tf.nn.rnn_cell.BasicRNNCell(num_units=units)\n",
    "    init_state = BasicRNN_cell.zero_state(tf.shape(inputs)[0], dtype=tf.float32)\n",
    "    outputs, states = tf.nn.dynamic_rnn(BasicRNN_cell, inputs, initial_state=init_state)\n",
    "    \n",
    "    return outputs"
   ]
  },
  {
   "cell_type": "code",
   "execution_count": 7,
   "metadata": {},
   "outputs": [],
   "source": [
    "tf.reset_default_graph()\n",
    "\n",
    "with tf.name_scope(\"inputs\"):\n",
    "    X = tf.placeholder(tf.float32,[None, 28, 56], name='X')\n",
    "    y1 = tf.placeholder(tf.float64,[None, 10], name='y1')\n",
    "    y2 = tf.placeholder(tf.float64,[None, 10], name='y2')\n",
    "\n",
    "with tf.variable_scope(\"RNN_layer\"):\n",
    "    outputs = RNN_layer(X, 32)   \n",
    "\n",
    "with tf.variable_scope(\"output_layer\"):\n",
    "    RNN_last_outputs = outputs[:,-1,:]  \n",
    "    prediction1 = tf.layers.dense(inputs=RNN_last_outputs, units=10)\n",
    "    prediction2 = tf.layers.dense(inputs=RNN_last_outputs, units=10)\n",
    "\n",
    "with tf.name_scope(\"loss\"):\n",
    "    loss1 = tf.reduce_mean(tf.nn.softmax_cross_entropy_with_logits_v2(logits=prediction1,labels=y1))\n",
    "    loss2 = tf.reduce_mean(tf.nn.softmax_cross_entropy_with_logits_v2(logits=prediction2,labels=y2))\n",
    "    loss = loss1 + loss2\n",
    "\n",
    "with tf.name_scope(\"optimizer\"):\n",
    "    opt = tf.train.AdamOptimizer(learning_rate=learning_rate).minimize(loss)\n",
    "\n",
    "with tf.name_scope(\"accuracy\"):\n",
    "    correct_prediction=tf.logical_and(tf.equal(tf.argmax(prediction1,1),tf.argmax(y1,1)),\n",
    "                                      tf.equal(tf.argmax(prediction2,1),tf.argmax(y2,1)))\n",
    "    accuracy=tf.reduce_mean(tf.cast(correct_prediction,tf.float32))      \n",
    "\n",
    "init = tf.global_variables_initializer()"
   ]
  },
  {
   "cell_type": "code",
   "execution_count": 8,
   "metadata": {},
   "outputs": [
    {
     "data": {
      "text/plain": [
       "[<tf.Variable 'RNN_layer/rnn/basic_rnn_cell/kernel:0' shape=(88, 32) dtype=float32_ref>,\n",
       " <tf.Variable 'RNN_layer/rnn/basic_rnn_cell/bias:0' shape=(32,) dtype=float32_ref>,\n",
       " <tf.Variable 'output_layer/dense/kernel:0' shape=(32, 10) dtype=float32_ref>,\n",
       " <tf.Variable 'output_layer/dense/bias:0' shape=(10,) dtype=float32_ref>,\n",
       " <tf.Variable 'output_layer/dense_1/kernel:0' shape=(32, 10) dtype=float32_ref>,\n",
       " <tf.Variable 'output_layer/dense_1/bias:0' shape=(10,) dtype=float32_ref>,\n",
       " <tf.Variable 'optimizer/beta1_power:0' shape=() dtype=float32_ref>,\n",
       " <tf.Variable 'optimizer/beta2_power:0' shape=() dtype=float32_ref>,\n",
       " <tf.Variable 'RNN_layer/rnn/basic_rnn_cell/kernel/Adam:0' shape=(88, 32) dtype=float32_ref>,\n",
       " <tf.Variable 'RNN_layer/rnn/basic_rnn_cell/kernel/Adam_1:0' shape=(88, 32) dtype=float32_ref>,\n",
       " <tf.Variable 'RNN_layer/rnn/basic_rnn_cell/bias/Adam:0' shape=(32,) dtype=float32_ref>,\n",
       " <tf.Variable 'RNN_layer/rnn/basic_rnn_cell/bias/Adam_1:0' shape=(32,) dtype=float32_ref>,\n",
       " <tf.Variable 'output_layer/dense/kernel/Adam:0' shape=(32, 10) dtype=float32_ref>,\n",
       " <tf.Variable 'output_layer/dense/kernel/Adam_1:0' shape=(32, 10) dtype=float32_ref>,\n",
       " <tf.Variable 'output_layer/dense/bias/Adam:0' shape=(10,) dtype=float32_ref>,\n",
       " <tf.Variable 'output_layer/dense/bias/Adam_1:0' shape=(10,) dtype=float32_ref>,\n",
       " <tf.Variable 'output_layer/dense_1/kernel/Adam:0' shape=(32, 10) dtype=float32_ref>,\n",
       " <tf.Variable 'output_layer/dense_1/kernel/Adam_1:0' shape=(32, 10) dtype=float32_ref>,\n",
       " <tf.Variable 'output_layer/dense_1/bias/Adam:0' shape=(10,) dtype=float32_ref>,\n",
       " <tf.Variable 'output_layer/dense_1/bias/Adam_1:0' shape=(10,) dtype=float32_ref>]"
      ]
     },
     "execution_count": 8,
     "metadata": {},
     "output_type": "execute_result"
    }
   ],
   "source": [
    "tf.global_variables()"
   ]
  },
  {
   "cell_type": "markdown",
   "metadata": {},
   "source": [
    "## 5. Train the model"
   ]
  },
  {
   "cell_type": "code",
   "execution_count": 9,
   "metadata": {},
   "outputs": [],
   "source": [
    "sess = tf.Session()\n",
    "sess.run(init)"
   ]
  },
  {
   "cell_type": "code",
   "execution_count": 10,
   "metadata": {},
   "outputs": [
    {
     "name": "stdout",
     "output_type": "stream",
     "text": [
      "Epoch  0\n",
      "Accuracy  0.15772699      Loss  3.4050841\n",
      "__________________\n",
      "Epoch  5\n",
      "Accuracy  0.4910048      Loss  1.7695117\n",
      "__________________\n",
      "Epoch  10\n",
      "Accuracy  0.5768035      Loss  1.4425137\n",
      "__________________\n",
      "Epoch  15\n",
      "Accuracy  0.632496      Loss  1.2425057\n",
      "__________________\n",
      "Epoch  20\n",
      "Accuracy  0.667916      Loss  1.1277943\n",
      "__________________\n",
      "Epoch  25\n",
      "Accuracy  0.70654535      Loss  1.0257676\n",
      "__________________\n",
      "Epoch  30\n",
      "Accuracy  0.7374178      Loss  0.93321425\n",
      "__________________\n",
      "Epoch  35\n",
      "Accuracy  0.76644677      Loss  0.8453826\n",
      "__________________\n",
      "Epoch  40\n",
      "Accuracy  0.7802672      Loss  0.7911975\n",
      "__________________\n",
      "Epoch  45\n",
      "Accuracy  0.7904229      Loss  0.7547878\n",
      "__________________\n"
     ]
    }
   ],
   "source": [
    "for epoch_index in range(epochs):\n",
    "    loss_ls, acc_ls = [], []\n",
    "    get_batch = batch_gen(X_train, y_train, batch_size)\n",
    "    \n",
    "    for batch_X, batch_y1, batch_y2 in get_batch:\n",
    "        _,  batch_acc, batch_loss = sess.run([opt, accuracy, loss], feed_dict={X: batch_X, y1:batch_y1, y2:batch_y2})\n",
    "        loss_ls.append(batch_loss)\n",
    "        acc_ls.append(batch_acc)\n",
    "        \n",
    "    if epoch_index%5 == 0:\n",
    "        print(\"Epoch \", epoch_index)\n",
    "        print(\"Accuracy \", np.mean(acc_ls), \"     Loss \", np.mean(loss_ls))\n",
    "        print(\"__________________\")    "
   ]
  },
  {
   "cell_type": "code",
   "execution_count": 11,
   "metadata": {},
   "outputs": [
    {
     "name": "stdout",
     "output_type": "stream",
     "text": [
      "Testing Accuracy: 0.792\n"
     ]
    }
   ],
   "source": [
    "test_X1 = X_test[:500]\n",
    "test_X2 = X_test[500:1000]\n",
    "test_X = np.concatenate((test_X1, test_X2), axis=2) \n",
    "test_y1 = y_test[:500]\n",
    "test_y2 = y_test[500:1000]\n",
    "\n",
    "print(\"Testing Accuracy:\", sess.run(accuracy, feed_dict={X: test_X, y1: test_y1, y2:test_y2}))"
   ]
  },
  {
   "cell_type": "code",
   "execution_count": 12,
   "metadata": {},
   "outputs": [],
   "source": [
    "sess.close()"
   ]
  }
 ],
 "metadata": {
  "kernelspec": {
   "display_name": "Python 3",
   "language": "python",
   "name": "python3"
  },
  "language_info": {
   "codemirror_mode": {
    "name": "ipython",
    "version": 3
   },
   "file_extension": ".py",
   "mimetype": "text/x-python",
   "name": "python",
   "nbconvert_exporter": "python",
   "pygments_lexer": "ipython3",
   "version": "3.6.6"
  }
 },
 "nbformat": 4,
 "nbformat_minor": 2
}
