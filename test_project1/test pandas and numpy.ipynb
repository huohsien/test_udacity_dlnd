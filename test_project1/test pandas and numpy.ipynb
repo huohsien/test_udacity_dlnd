{
 "cells": [
  {
   "cell_type": "code",
   "execution_count": 1,
   "metadata": {},
   "outputs": [],
   "source": [
    "%matplotlib inline\n",
    "%load_ext autoreload\n",
    "%autoreload 2\n",
    "%config InlineBackend.figure_format = 'retina'\n",
    "\n",
    "import numpy as np\n",
    "import pandas as pd\n",
    "import matplotlib.pyplot as plt\n",
    "\n",
    "data_path = 'Bike-Sharing-Dataset/hour.csv'\n",
    "rides = pd.read_csv(data_path)\n",
    "dummy_fields = ['season', 'weathersit', 'mnth', 'hr', 'weekday']\n",
    "for each in dummy_fields:\n",
    "    dummies = pd.get_dummies(rides[each], prefix=each, drop_first=False)\n",
    "    rides = pd.concat([rides, dummies], axis=1)\n",
    "\n",
    "fields_to_drop = ['instant', 'dteday', 'season', 'weathersit', \n",
    "                  'weekday', 'atemp', 'mnth', 'workingday', 'hr']\n",
    "data = rides.drop(fields_to_drop, axis=1)\n",
    "quant_features = ['casual', 'registered', 'cnt', 'temp', 'hum', 'windspeed']\n",
    "# Store scalings in a dictionary so we can convert back later\n",
    "scaled_features = {}\n",
    "for each in quant_features:\n",
    "    mean, std = data[each].mean(), data[each].std()\n",
    "    scaled_features[each] = [mean, std]\n",
    "    data.loc[:, each] = (data[each] - mean)/std\n",
    "\n",
    "# Save data for approximately the last 21 days \n",
    "test_data = data[-21*24:]\n",
    "\n",
    "# Now remove the test data from the data set \n",
    "data = data[:-21*24]\n",
    "\n",
    "# Separate the data into features and targets\n",
    "target_fields = ['cnt', 'casual', 'registered']\n",
    "features, targets = data.drop(target_fields, axis=1), data[target_fields]\n",
    "test_features, test_targets = test_data.drop(target_fields, axis=1), test_data[target_fields]\n",
    "\n",
    "# Hold out the last 60 days or so of the remaining data as a validation set\n",
    "train_features, train_targets = features[:-60*24], targets[:-60*24]\n",
    "val_features, val_targets = features[-60*24:], targets[-60*24:]"
   ]
  },
  {
   "cell_type": "code",
   "execution_count": 4,
   "metadata": {},
   "outputs": [
    {
     "data": {
      "text/plain": [
       "(128, 56)"
      ]
     },
     "execution_count": 4,
     "metadata": {},
     "output_type": "execute_result"
    }
   ],
   "source": [
    "batch = np.random.choice(train_features.index, size=128)\n",
    "features, targets = train_features.iloc[batch].values, train_targets.iloc[batch]['cnt']\n",
    "features.shape"
   ]
  },
  {
   "cell_type": "code",
   "execution_count": 3,
   "metadata": {},
   "outputs": [
    {
     "data": {
      "text/plain": [
       "array([[ 0.09229145,  0.04042964],\n",
       "       [-0.10647571,  0.09307595],\n",
       "       [ 0.07182815,  0.05314145],\n",
       "       [ 0.03073661, -0.17323259],\n",
       "       [ 0.05941281, -0.11057078],\n",
       "       [-0.16369119,  0.19705429],\n",
       "       [ 0.14700182,  0.04136619],\n",
       "       [-0.35020713, -0.05486713],\n",
       "       [-0.18475802,  0.01008264],\n",
       "       [ 0.11090908,  0.1959951 ],\n",
       "       [ 0.12568919, -0.14249577],\n",
       "       [ 0.04791026,  0.09380083],\n",
       "       [-0.0070272 , -0.16107242],\n",
       "       [-0.11476466,  0.18423043],\n",
       "       [ 0.14550991, -0.30709603],\n",
       "       [ 0.16690723,  0.20090378],\n",
       "       [-0.09722165, -0.02954547],\n",
       "       [ 0.02980745, -0.09546733],\n",
       "       [ 0.16529615, -0.01100864],\n",
       "       [ 0.19511877, -0.26435807],\n",
       "       [-0.00734297,  0.09036321],\n",
       "       [-0.03732904, -0.03673979],\n",
       "       [-0.05267887,  0.05649571],\n",
       "       [-0.07528134,  0.10503307],\n",
       "       [ 0.05140929, -0.35532241],\n",
       "       [ 0.01107008,  0.20557456],\n",
       "       [-0.02266366,  0.12482267],\n",
       "       [ 0.02471508,  0.27063359],\n",
       "       [ 0.19116346,  0.01712638],\n",
       "       [ 0.25163491,  0.1910978 ],\n",
       "       [ 0.15317767,  0.0040664 ],\n",
       "       [-0.11840855, -0.10048901],\n",
       "       [ 0.07600416, -0.10435832],\n",
       "       [ 0.17100134,  0.17637517],\n",
       "       [ 0.01761051, -0.19933577],\n",
       "       [ 0.11687611, -0.06922983],\n",
       "       [ 0.06412698,  0.08740474],\n",
       "       [ 0.12379529, -0.14476185],\n",
       "       [ 0.03672541,  0.13385881],\n",
       "       [ 0.03941684,  0.02666248],\n",
       "       [ 0.0050875 , -0.26504474],\n",
       "       [-0.16099316, -0.04137315],\n",
       "       [ 0.16211124, -0.06131588],\n",
       "       [ 0.01235527, -0.04478416],\n",
       "       [ 0.10576065, -0.03373246],\n",
       "       [ 0.05284771, -0.164057  ],\n",
       "       [ 0.04527156, -0.18224986],\n",
       "       [-0.04332555, -0.20427769],\n",
       "       [-0.09481697,  0.01707047],\n",
       "       [ 0.10712151, -0.12324815],\n",
       "       [-0.05645651, -0.285854  ],\n",
       "       [-0.1905931 , -0.07896877],\n",
       "       [ 0.05987033,  0.07373458],\n",
       "       [-0.11402119,  0.16309404],\n",
       "       [ 0.16575194,  0.06514185],\n",
       "       [-0.18386323, -0.27667595]])"
      ]
     },
     "execution_count": 3,
     "metadata": {},
     "output_type": "execute_result"
    }
   ],
   "source": [
    "weights_input_to_hidden = np.random.normal(0.0, 56**-0.5,(56, 2))\n",
    "weights_input_to_hidden"
   ]
  },
  {
   "cell_type": "code",
   "execution_count": 30,
   "metadata": {},
   "outputs": [
    {
     "data": {
      "text/plain": [
       "array([[0.1, 0.2],\n",
       "       [0.2, 0.4],\n",
       "       [0.3, 0.6]])"
      ]
     },
     "execution_count": 30,
     "metadata": {},
     "output_type": "execute_result"
    }
   ],
   "source": [
    "a = np.array([1,2,3])\n",
    "a=a[:,None]\n",
    "b= np.array([0.1,0.2])\n",
    "r =b * a\n",
    "r"
   ]
  }
 ],
 "metadata": {
  "kernelspec": {
   "display_name": "Python 3",
   "language": "python",
   "name": "python3"
  },
  "language_info": {
   "codemirror_mode": {
    "name": "ipython",
    "version": 3
   },
   "file_extension": ".py",
   "mimetype": "text/x-python",
   "name": "python",
   "nbconvert_exporter": "python",
   "pygments_lexer": "ipython3",
   "version": "3.7.2"
  }
 },
 "nbformat": 4,
 "nbformat_minor": 2
}
